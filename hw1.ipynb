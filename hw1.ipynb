{
 "cells": [
  {
   "cell_type": "markdown",
   "metadata": {},
   "source": [
    "# MSCF 46982 Market Microstructure and Algorithmic Trading\n",
    "# Fall 2018 Mini 2\n",
    "\n",
    "Before you turn this problem in, make sure everything runs as expected. First, **restart the kernel** (in the menubar, select Kernel$\\rightarrow$Restart) and then **run all cells** (in the menubar, select Cell$\\rightarrow$Run All).\n",
    "\n",
    "Make sure you fill in any place that says `YOUR CODE HERE` or \"YOUR ANSWER HERE\", specify your name and that of your collaborator, and remove the `notimplemented` exception.\n",
    "\n"
   ]
  },
  {
   "cell_type": "markdown",
   "metadata": {},
   "source": [
    "---"
   ]
  },
  {
   "cell_type": "code",
   "execution_count": 1,
   "metadata": {
    "collapsed": true
   },
   "outputs": [],
   "source": [
    "NAME: \"Ze Yang\"\n",
    "COLLABORATOR: \"\""
   ]
  },
  {
   "cell_type": "markdown",
   "metadata": {},
   "source": [
    "## Anaconda w/ Embedpy Installation\n",
    "\n",
    "To confirm you have installed Anaconda with the Kdb+ kernel installed properly, compute the `md5` hash of 3.6."
   ]
  },
  {
   "cell_type": "markdown",
   "metadata": {},
   "source": [
    "### Part A (1 points)\n",
    "\n",
    "The `.z.K` internal variable contains the version of Kdb+. Evaluate the below cell, to confirm you are running version 3.6 and display the md5 hashed value of this version. The code below has the hashed value of 3.5. Update the declaration of `x` to have the correct hashed value of 3.6."
   ]
  },
  {
   "cell_type": "code",
   "execution_count": 2,
   "metadata": {
    "deletable": false,
    "nbgrader": {
     "checksum": "71f0292eed4e78b3f4f6478481828634",
     "grade": false,
     "grade_id": "dotzdotk",
     "locked": false,
     "schema_version": 1,
     "solution": true
    }
   },
   "outputs": [
    {
     "data": {
      "text/plain": [
       "3.6\n"
      ]
     },
     "execution_count": 2,
     "metadata": {},
     "output_type": "execute_result"
    },
    {
     "data": {
      "text/plain": [
       "0xe44436592c2daabbd3d797f8967245a3\n"
      ]
     },
     "execution_count": 2,
     "metadata": {},
     "output_type": "execute_result"
    },
    {
     "data": {
      "text/plain": [
       "0xe44436592c2daabbd3d797f8967245a3\n"
      ]
     },
     "execution_count": 2,
     "metadata": {},
     "output_type": "execute_result"
    }
   ],
   "source": [
    ".z.K\n",
    "md5 string .z.K\n",
    "x:0x804066a6a5042090a2a0b25c55f38e72\n",
    "/ YOUR CODE HERE\n",
    "x:0xe44436592c2daabbd3d797f8967245a3\n",
    "x"
   ]
  },
  {
   "cell_type": "code",
   "execution_count": 3,
   "metadata": {
    "collapsed": true,
    "deletable": false,
    "editable": false,
    "nbgrader": {
     "checksum": "931c1c51cfef0b5cb646a4bc24cf4af4",
     "grade": true,
     "grade_id": "correct_dotzdotk",
     "locked": true,
     "points": 1,
     "schema_version": 1,
     "solution": false
    }
   },
   "outputs": [],
   "source": [
    "assert:{if[not x~y;'`$\"expecting '\",(-3!x),\"' but found '\",(-3!y),\"'\"]}\n",
    "assert[md5 \"3.6\"] x"
   ]
  },
  {
   "cell_type": "markdown",
   "metadata": {},
   "source": [
    "## Fibonacci Sequence\n",
    "While Kdb+ comes with a `while` operator, it is rarely used and frowned upon as good form.  This problem takes you through a popular example of how iteration is performed in q using adverbs. A quick introduction to Kdb+ and an example of the Fibonacci sequence can also be view in [Q for All](https://code.kx.com/q/tutorials/q-for-all)."
   ]
  },
  {
   "cell_type": "markdown",
   "metadata": {},
   "source": [
    "### Part A (1 points)\n",
    "\n",
    "Write a function that returns the sum of the last 2 elements of a list.\n",
    "\n",
    "Hint: use the `#` operator."
   ]
  },
  {
   "cell_type": "code",
   "execution_count": 4,
   "metadata": {
    "collapsed": true,
    "deletable": false,
    "nbgrader": {
     "checksum": "68afcc34f370788e248b6cb62edfa029",
     "grade": false,
     "grade_id": "sumlasttwo",
     "locked": false,
     "schema_version": 1,
     "solution": true
    }
   },
   "outputs": [],
   "source": [
    "/ returns the sum of the last two elements\n",
    "sumlasttwo:{\n",
    "    / YOUR CODE HERE\n",
    "    x:sum -2#x;\n",
    "    /'`notimplemented\n",
    "    x}\n"
   ]
  },
  {
   "cell_type": "markdown",
   "metadata": {},
   "source": [
    "Your function should return `8` for `x:0 1 1 2 3 5`. Check that it does:"
   ]
  },
  {
   "cell_type": "code",
   "execution_count": 5,
   "metadata": {},
   "outputs": [
    {
     "data": {
      "text/plain": [
       "8\n"
      ]
     },
     "execution_count": 5,
     "metadata": {},
     "output_type": "execute_result"
    }
   ],
   "source": [
    "sumlasttwo 0 1 1 2 3 5"
   ]
  },
  {
   "cell_type": "code",
   "execution_count": 6,
   "metadata": {
    "collapsed": true,
    "deletable": false,
    "editable": false,
    "nbgrader": {
     "checksum": "7366c55e9e712a5f12536c17e85bd2ed",
     "grade": true,
     "grade_id": "correct_sumlasttwo",
     "locked": false,
     "points": 1,
     "schema_version": 1,
     "solution": false
    }
   },
   "outputs": [],
   "source": [
    "/ check that sumlasttwo produces the correct output for several inputs\n",
    "assert[2] sumlasttwo 0 1 1\n",
    "assert[3] sumlasttwo 0 1 1 2\n",
    "assert[5] sumlasttwo 0 1 1 2 3\n",
    "assert[8] sumlasttwo 0 1 1 2 3 5\n",
    "assert[13] sumlasttwo 0 1 1 2 3 5 8"
   ]
  },
  {
   "cell_type": "markdown",
   "metadata": {},
   "source": [
    "### Part B (1 point)\n",
    "\n",
    "Write a function `fib` that appends the sum of the last two elements of a list to the list."
   ]
  },
  {
   "cell_type": "code",
   "execution_count": 7,
   "metadata": {
    "collapsed": true,
    "deletable": false,
    "nbgrader": {
     "checksum": "598c25358887c83ce5e3661d2776e58c",
     "grade": false,
     "grade_id": "fib",
     "locked": false,
     "schema_version": 1,
     "solution": true
    }
   },
   "outputs": [],
   "source": [
    "/ returns the sum of the last two elements\n",
    "fib:{\n",
    "    / YOUR CODE HERE\n",
    "    x:x,sumlasttwo x;\n",
    "    x}\n"
   ]
  },
  {
   "cell_type": "markdown",
   "metadata": {},
   "source": [
    "Your function should return `0 1 1 2 3 5 8` for `x:0 1 1 2 3 5`.  Check that it does:"
   ]
  },
  {
   "cell_type": "code",
   "execution_count": 8,
   "metadata": {},
   "outputs": [
    {
     "data": {
      "text/plain": [
       "0 1 1 2 3 5 8\n"
      ]
     },
     "execution_count": 8,
     "metadata": {},
     "output_type": "execute_result"
    }
   ],
   "source": [
    "fib 0 1 1 2 3 5"
   ]
  },
  {
   "cell_type": "code",
   "execution_count": 9,
   "metadata": {
    "collapsed": true,
    "deletable": false,
    "editable": false,
    "nbgrader": {
     "checksum": "f1f12b42b0fc75337bb515e6cc06daee",
     "grade": true,
     "grade_id": "correct_fib",
     "locked": true,
     "points": 1,
     "schema_version": 1,
     "solution": false
    }
   },
   "outputs": [],
   "source": [
    "/ check that fib produces the correct output for several inputs\n",
    "assert[0 1 1] fib 0 1\n",
    "assert[0 1 1 2] fib 0 1 1\n",
    "assert[0 1 1 2 3] fib 0 1 1 2\n",
    "assert[0 1 1 2 3 5] fib 0 1 1 2 3\n",
    "assert[0 1 1 2 3 5 8] fib 0 1 1 2 3 5\n",
    "assert[0 1 1 2 3 5 8 13] fib 0 1 1 2 3 5 8"
   ]
  },
  {
   "cell_type": "markdown",
   "metadata": {},
   "source": [
    "### Part C (1 point)\n",
    "\n",
    "Using your `fib` function and the `/` [adverb](https://code.kx.com/q/ref/adverbs/#converge-repeat), write a new function `fibonacci` which returns the first n elements of the Fibonacci sequence after `0 1`."
   ]
  },
  {
   "cell_type": "code",
   "execution_count": 10,
   "metadata": {
    "collapsed": true,
    "deletable": false,
    "nbgrader": {
     "checksum": "95031dbe37abc6f7a955083a1934d4a9",
     "grade": false,
     "grade_id": "fibonacci",
     "locked": false,
     "schema_version": 1,
     "solution": true
    }
   },
   "outputs": [],
   "source": [
    "/ returns the sum of the last two elements\n",
    "fibonacci:{[n]\n",
    "    / YOUR CODE HERE\n",
    "    x:fib/[n;0 1];\n",
    "    x}\n"
   ]
  },
  {
   "cell_type": "markdown",
   "metadata": {},
   "source": [
    "Your function should return `0 1 1 2 3 5` for `n:4`.  Check that it does:"
   ]
  },
  {
   "cell_type": "code",
   "execution_count": 11,
   "metadata": {},
   "outputs": [
    {
     "data": {
      "text/plain": [
       "0 1 1 2 3 5\n"
      ]
     },
     "execution_count": 11,
     "metadata": {},
     "output_type": "execute_result"
    }
   ],
   "source": [
    "fibonacci 4"
   ]
  },
  {
   "cell_type": "code",
   "execution_count": 12,
   "metadata": {
    "collapsed": true,
    "deletable": false,
    "editable": false,
    "nbgrader": {
     "checksum": "01470366420cf38222ab01a10ac55fa6",
     "grade": true,
     "grade_id": "correct_fibonacci",
     "locked": true,
     "points": 1,
     "schema_version": 1,
     "solution": false
    }
   },
   "outputs": [],
   "source": [
    "/ check that fibonacci produces the correct output for several inputs\n",
    "assert[0 1] fibonacci 0\n",
    "assert[0 1 1] fibonacci 1\n",
    "assert[0 1 1 2] fibonacci 2\n",
    "assert[0 1 1 2 3] fibonacci 3\n",
    "assert[0 1 1 2 3 5] fibonacci 4\n",
    "assert[0 1 1 2 3 5 8] fibonacci 5\n",
    "assert[1298777728820984005] last fibonacci 100"
   ]
  },
  {
   "cell_type": "markdown",
   "metadata": {},
   "source": [
    "## Sharpe Ratio\n",
    "\n",
    "A common performance statistic for investors is the **sharpe ratio**.  It is defined as the average profit (above the risk free rate) divided by the risk (or standard deviation) of achieving that profit.\n",
    "\n",
    "$$\\frac{\\text{average daily return} - \\text{daily risk free return}}{\\text{daily standard deviation of returns}}$$\n",
    "\n",
    "Many long/short strategies are self financing and the cost of capital is therefore ignored.  And instead of computing the **sharpe ratio** using returns, it is common to use the actual profits (aka: pnl).\n",
    "\n",
    "$$\\frac{\\text{average daily pnl}}{\\text{daily standard deviation of pnl}}$$"
   ]
  },
  {
   "cell_type": "markdown",
   "metadata": {},
   "source": [
    "### Part A (1 Point)"
   ]
  },
  {
   "cell_type": "markdown",
   "metadata": {},
   "source": [
    "Using the `avg` and `sdev` operator write a `sharpe` function that computes the **sharpe ratio** of a given series of daily pnl results."
   ]
  },
  {
   "cell_type": "code",
   "execution_count": 13,
   "metadata": {
    "collapsed": true,
    "deletable": false,
    "nbgrader": {
     "checksum": "5fbace7b4042fcf850572acc899d5a17",
     "grade": false,
     "grade_id": "sharpe",
     "locked": false,
     "schema_version": 1,
     "solution": true
    }
   },
   "outputs": [],
   "source": [
    "/ compute the sharpe ratio of a list of values\n",
    "sharpe:{\n",
    "    / YOUR CODE HERE\n",
    "    x:avg x%sdev x;\n",
    "    x}\n"
   ]
  },
  {
   "cell_type": "markdown",
   "metadata": {},
   "source": [
    "Given a series of daily profits (and losses) `20 -10 30 10 15 -5 20 50 30 20`, your function should return `1.037311`.  Check that it does:"
   ]
  },
  {
   "cell_type": "code",
   "execution_count": 14,
   "metadata": {},
   "outputs": [
    {
     "data": {
      "text/plain": [
       "1.037311\n"
      ]
     },
     "execution_count": 14,
     "metadata": {},
     "output_type": "execute_result"
    }
   ],
   "source": [
    "sharpe 20 -10 30 10 15 -5 20 50 30 20"
   ]
  },
  {
   "cell_type": "code",
   "execution_count": 15,
   "metadata": {
    "collapsed": true,
    "deletable": false,
    "editable": false,
    "nbgrader": {
     "checksum": "935b37a592ed92d16d42294a3bbadb8a",
     "grade": true,
     "grade_id": "correct_sharpe",
     "locked": true,
     "points": 1,
     "schema_version": 1,
     "solution": false
    }
   },
   "outputs": [],
   "source": [
    "/ check that sharpe produces the correct results\n",
    "assert[0.5316765e] \"e\"$sharpe -4 -1 -2 -3 5 4 3 10 5 10\n",
    "assert[0.4685095e] \"e\"$sharpe -100 100 -300 50 400 -50 1000 50 500"
   ]
  },
  {
   "cell_type": "markdown",
   "metadata": {},
   "source": [
    "## Drawdown\n",
    "\n",
    "Another common performance statistic for investors is the **drawdown**.  It is defined as the loss from peak to trough.  If a stock starts at 100, rises to 120 and falls to 90, the drawdown would be 30 (120-90) or 25% (30/120).  If the price rises again to 110, the drawdown would be 8.33% (10/120).  And finally, if the price moved beyond 120 to 130, the drawdown would be 0."
   ]
  },
  {
   "cell_type": "markdown",
   "metadata": {},
   "source": [
    "### Part A (1 Point)"
   ]
  },
  {
   "cell_type": "markdown",
   "metadata": {},
   "source": [
    "Using the `maxs`, `|` and `%` operators, write a function `drawdown` that computes a time-series of the drawdown statistic."
   ]
  },
  {
   "cell_type": "code",
   "execution_count": 16,
   "metadata": {
    "collapsed": true,
    "deletable": false,
    "nbgrader": {
     "checksum": "c3af91c1118c72b099b805021d632f9c",
     "grade": false,
     "grade_id": "drawdown",
     "locked": false,
     "schema_version": 1,
     "solution": true
    }
   },
   "outputs": [],
   "source": [
    "/ compute the drawdown (as a percentage) of a list of values\n",
    "drawdown:{\n",
    "    / YOUR CODE HERE\n",
    "    x:(h-x)%h:maxs x;\n",
    "    x}\n"
   ]
  },
  {
   "cell_type": "markdown",
   "metadata": {},
   "source": [
    "Given a series of prices `100 101 100 99 98 100 102 104 103`, your function should return `0 0 0.00990099 0.01980198 0.02970297 0.00990099 0 0 0.009615385`.  Check that it does:"
   ]
  },
  {
   "cell_type": "code",
   "execution_count": 17,
   "metadata": {},
   "outputs": [
    {
     "data": {
      "text/plain": [
       "0 0 0.00990099 0.01980198 0.02970297 0.00990099 0 0 0.009615385\n"
      ]
     },
     "execution_count": 17,
     "metadata": {},
     "output_type": "execute_result"
    }
   ],
   "source": [
    "drawdown 100 101 100 99 98 100 102 104 103"
   ]
  },
  {
   "cell_type": "code",
   "execution_count": 18,
   "metadata": {
    "collapsed": true,
    "deletable": false,
    "editable": false,
    "nbgrader": {
     "checksum": "43d422b6b9c0d04f07c101a854cf6c42",
     "grade": true,
     "grade_id": "correct_drawdowns",
     "locked": true,
     "points": 1,
     "schema_version": 1,
     "solution": false
    }
   },
   "outputs": [],
   "source": [
    "/ check that drawdown produces the correct results\n",
    "assert[0 0 0.5 0.25 0 0.15] drawdown 100 120 60 90 120 102\n",
    "assert[0 0.1 0.2 0.3 0.4 0.5 0.1 0.2 0] drawdown 100 90 80 70 60 50 90 80 100"
   ]
  },
  {
   "cell_type": "markdown",
   "metadata": {},
   "source": [
    "### Part B (1 Point)"
   ]
  },
  {
   "cell_type": "markdown",
   "metadata": {},
   "source": [
    "Using the `drawdown` function, write a function `mdd` that computes the maximum drawdown of a price series."
   ]
  },
  {
   "cell_type": "code",
   "execution_count": 19,
   "metadata": {
    "collapsed": true,
    "deletable": false,
    "nbgrader": {
     "checksum": "cfa9a10aa5069ce3480241d17b85e848",
     "grade": false,
     "grade_id": "mdd",
     "locked": false,
     "schema_version": 1,
     "solution": true
    }
   },
   "outputs": [],
   "source": [
    "/ compute the maximum drawdown of a list of values\n",
    "mdd:{\n",
    "    / YOUR CODE HERE\n",
    "    x:max drawdown x;\n",
    "    x}\n"
   ]
  },
  {
   "cell_type": "markdown",
   "metadata": {},
   "source": [
    "Given the same series of prices `100 101 100 99 98 100 102 104 103`, your function should return `0.02970297`.  Check that it does:"
   ]
  },
  {
   "cell_type": "code",
   "execution_count": 20,
   "metadata": {},
   "outputs": [
    {
     "data": {
      "text/plain": [
       "0.02970297\n"
      ]
     },
     "execution_count": 20,
     "metadata": {},
     "output_type": "execute_result"
    }
   ],
   "source": [
    "mdd 100 101 100 99 98 100 102 104 103"
   ]
  },
  {
   "cell_type": "code",
   "execution_count": 21,
   "metadata": {
    "collapsed": true,
    "deletable": false,
    "editable": false,
    "nbgrader": {
     "checksum": "b14ace8ee7c1a35af03b758355c42a35",
     "grade": true,
     "grade_id": "correct_mdd",
     "locked": true,
     "points": 1,
     "schema_version": 1,
     "solution": false
    }
   },
   "outputs": [],
   "source": [
    "/ check that mdd produces the correct value for a few inputs\n",
    "assert[.5] mdd 100 120 110 140 100 80 70 80 90\n",
    "assert[0f] mdd 100 101 102 103 104 105 106\n",
    "assert[.8] mdd 100 80 60 40 30 20 80 120 60"
   ]
  },
  {
   "cell_type": "markdown",
   "metadata": {},
   "source": [
    "## Dictionaries, Tables and Keyed Tables\n",
    "\n",
    "Kdb+ is a vector programming language, and as such, vectors are everywhere.  \"Atomic\" functions work equally well on atoms and vectors.  Remember:\n",
    "- A dictionary is a pair of vectors.\n",
    "- A table can be treated as a list of dictionaries (though it is stored in memory as a flipped dictionary of lists). \n",
    "- A Keyed table is a pair tables and can be thought of as a dictionary mapping one table to another.\n",
    "\n",
    "The following questions exercise your knowledge of dictionaries and tables."
   ]
  },
  {
   "cell_type": "markdown",
   "metadata": {},
   "source": [
    "### Part A (1 Point)"
   ]
  },
  {
   "cell_type": "markdown",
   "metadata": {},
   "source": [
    "Using the `!` operator, create a dictionary mapping each lowercase letter of the alphabet to the numbers 1 to 26 and store it in the variable `d`."
   ]
  },
  {
   "cell_type": "code",
   "execution_count": 22,
   "metadata": {
    "collapsed": true,
    "deletable": false,
    "nbgrader": {
     "checksum": "fbf9d5c8b2862687d9b2112acd53efbf",
     "grade": false,
     "grade_id": "dictionary",
     "locked": false,
     "schema_version": 1,
     "solution": true
    }
   },
   "outputs": [],
   "source": [
    "d:()!()\n",
    "/ YOUR CODE HERE\n",
    "d:\"abcdefghijklmnopqrstuvwxyz\"!1+til 26;"
   ]
  },
  {
   "cell_type": "code",
   "execution_count": 23,
   "metadata": {},
   "outputs": [
    {
     "data": {
      "text/plain": [
       "a| 1\n",
       "b| 2\n",
       "c| 3\n",
       "d| 4\n",
       "e| 5\n",
       "f| 6\n",
       "g| 7\n",
       "h| 8\n",
       "i| 9\n",
       "j| 10\n",
       "k| 11\n",
       "l| 12\n",
       "m| 13\n",
       "n| 14\n",
       "o| 15\n",
       "p| 16\n",
       "q| 17\n",
       "r| 18\n",
       "s| 19\n",
       "t| 20\n",
       "u| 21\n",
       "v| 22\n",
       "..\n"
      ]
     },
     "execution_count": 23,
     "metadata": {},
     "output_type": "execute_result"
    }
   ],
   "source": [
    "d"
   ]
  },
  {
   "cell_type": "code",
   "execution_count": 24,
   "metadata": {
    "collapsed": true,
    "deletable": false,
    "editable": false,
    "nbgrader": {
     "checksum": "9f77b4b3a0d28def3138e7b766725e66",
     "grade": true,
     "grade_id": "correct_dictionary",
     "locked": true,
     "points": 1,
     "schema_version": 1,
     "solution": false
    }
   },
   "outputs": [],
   "source": [
    "/ check there are 26 elements in the dictionary\n",
    "assert[26] count d\n",
    "/ check the key is a string vector\n",
    "assert[10h] type key d\n",
    "/ check the values sum to 251\n",
    "assert[351] sum d\n",
    "/ check that carnegie mellon university sums to 295\n",
    "assert[295] sum d \"carnegie mellon university\""
   ]
  },
  {
   "cell_type": "markdown",
   "metadata": {},
   "source": [
    "### Part B (1 Point)"
   ]
  },
  {
   "cell_type": "markdown",
   "metadata": {},
   "source": [
    "Using `([]a;b;c)` notation, generate a table `t` with three columns: `date`, `sym` and `price`.  The table should have dates ranging from 2018.01.01 thru 2018.12.31, the `sym` column should all have the value `BAC`, and the `price` column should a list of random floating point numbers."
   ]
  },
  {
   "cell_type": "code",
   "execution_count": 25,
   "metadata": {
    "deletable": false,
    "nbgrader": {
     "checksum": "d5cbb062643ecde7d5fe961965d32f78",
     "grade": false,
     "grade_id": "table",
     "locked": false,
     "schema_version": 1,
     "solution": true
    }
   },
   "outputs": [],
   "source": [
    "t:([]a:();b:();c:())\n",
    "/ YOUR CODE HERE\n",
    "t:([]date:(2018.01.01+til 365);sym:(365#enlist `BAC);price:(rand each 365#100.0));"
   ]
  },
  {
   "cell_type": "code",
   "execution_count": 26,
   "metadata": {},
   "outputs": [
    {
     "data": {
      "text/plain": [
       "date       sym price   \n",
       "-----------------------\n",
       "2018.01.01 BAC 39.27524\n",
       "2018.01.02 BAC 51.70911\n",
       "2018.01.03 BAC 51.59796\n",
       "2018.01.04 BAC 40.66642\n",
       "2018.01.05 BAC 17.80839\n",
       "2018.01.06 BAC 30.17723\n",
       "2018.01.07 BAC 78.5033 \n",
       "2018.01.08 BAC 53.47096\n",
       "2018.01.09 BAC 71.11716\n",
       "2018.01.10 BAC 41.1597 \n",
       "2018.01.11 BAC 49.31835\n",
       "2018.01.12 BAC 57.85203\n",
       "2018.01.13 BAC 8.388858\n",
       "2018.01.14 BAC 19.59907\n",
       "2018.01.15 BAC 37.5638 \n",
       "2018.01.16 BAC 61.37452\n",
       "2018.01.17 BAC 52.94808\n",
       "2018.01.18 BAC 69.16099\n",
       "2018.01.19 BAC 22.96615\n",
       "2018.01.20 BAC 69.19531\n",
       "..\n"
      ]
     },
     "execution_count": 26,
     "metadata": {},
     "output_type": "execute_result"
    }
   ],
   "source": [
    "t"
   ]
  },
  {
   "cell_type": "code",
   "execution_count": 27,
   "metadata": {
    "deletable": false,
    "editable": false,
    "nbgrader": {
     "checksum": "56541cc4485b32ac4540bc9b40d2a4fd",
     "grade": true,
     "grade_id": "correct_table",
     "locked": true,
     "points": 1,
     "schema_version": 1,
     "solution": false
    }
   },
   "outputs": [],
   "source": [
    "/ check there are 365 rows in the table\n",
    "assert[365] count t\n",
    "/ check the three columns are date,sym,price\n",
    "assert[`date`sym`price] cols t\n",
    "/ check the dates range from 2018.01.01 thru 2018.12.31\n",
    "assert[2018.01.01 2018.12.31] (first;last)@\\:t`date\n",
    "/ check the sym column has a single value: `BAC\n",
    "assert[1#`BAC] distinct t`sym\n",
    "/ check that the price column has floats\n",
    "assert[9h] type t`price\n",
    "/ check that there are no null values in the price column\n",
    "assert[1b] all not null t`price"
   ]
  },
  {
   "cell_type": "markdown",
   "metadata": {},
   "source": [
    "### Part C (1 Point)"
   ]
  },
  {
   "cell_type": "markdown",
   "metadata": {},
   "source": [
    "Using `([a]b;c)` notation, generate a table `t` with three columns: andrewid, fname, lname.  The `andrewid` column should be of type symbol and the `fname` and `lname` column should be of type string (character vector). The table should have `andrewid` as its primary key. You may put as many rows as you want, but it should have the following 2 records:\n",
    "\n",
    "```\n",
    "{andrewid: jpsaris; fname: \"nick\"; lname: \"psaris\"}\n",
    "{andrewid: dseppi; fname: \"duane\"; lname: \"seppi\"}\n",
    "```\n"
   ]
  },
  {
   "cell_type": "code",
   "execution_count": 31,
   "metadata": {
    "deletable": false,
    "nbgrader": {
     "checksum": "93846af4b41bba9efa0bf2a90aaa89c0",
     "grade": false,
     "grade_id": "keytable",
     "locked": false,
     "schema_version": 1,
     "solution": true
    }
   },
   "outputs": [
    {
     "data": {
      "text/plain": [
       ",2\n"
      ]
     },
     "execution_count": 31,
     "metadata": {},
     "output_type": "execute_result"
    },
    {
     "data": {
      "text/plain": [
       "andrewid| fname   lname   \n",
       "--------| ----------------\n",
       "jpsaris | \"nick\"  \"psaris\"\n",
       "dseppi  | \"duane\" \"seppi\" \n",
       "a       | \"sad\"   \"sa\"    \n"
      ]
     },
     "execution_count": 31,
     "metadata": {},
     "output_type": "execute_result"
    }
   ],
   "source": [
    "t:([]a:();b:();c:())\n",
    "/ YOUR CODE HERE\n",
    "t:([andrewid:(`jpsaris`dseppi)];fname:(\"nick\";\"duane\");lname:(\"psaris\";\"seppi\"));\n",
    "`t insert (`a;\"sad\";\"sa\")\n",
    "t"
   ]
  },
  {
   "cell_type": "code",
   "execution_count": 29,
   "metadata": {
    "deletable": false,
    "editable": false,
    "nbgrader": {
     "checksum": "1a30c6add47dcabaa3d845731315d9bc",
     "grade": true,
     "grade_id": "correct_keytable",
     "locked": true,
     "points": 1,
     "schema_version": 1,
     "solution": false
    },
    "scrolled": true
   },
   "outputs": [],
   "source": [
    "/ check the table column names are andrewid, fname and lname\n",
    "assert[`andrewid`fname`lname] cols t\n",
    "/ check the primary key andrewid\n",
    "assert[1#`andrewid] keys t\n",
    "/ check the column types are correct\n",
    "assert[\"sCC\"] value[meta t]`t\n",
    "/ check the name of jpsaris is nick psaris\n",
    "assert[(\"nick\";\"psaris\")] t[`jpsaris;`fname`lname]\n",
    "/ check the name of dseppi is duane sepppi\n",
    "assert[(\"duane\";\"seppi\")] t[`dseppi;`fname`lname]"
   ]
  }
 ],
 "metadata": {
  "kernelspec": {
   "display_name": "Q (kdb+)",
   "language": "q",
   "name": "qpk"
  },
  "language_info": {
   "file_extension": ".q",
   "mimetype": "text/x-q",
   "name": "q",
   "version": "3.6.0"
  }
 },
 "nbformat": 4,
 "nbformat_minor": 1
}
