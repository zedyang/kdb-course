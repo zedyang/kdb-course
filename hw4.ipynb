{
 "cells": [
  {
   "cell_type": "markdown",
   "metadata": {},
   "source": [
    "# MSCF 46982 Market Microstructure and Algorithmic Trading\n",
    "# Fall 2018 Mini 2\n",
    "\n",
    "Before you turn this problem in, make sure everything runs as expected. First, **restart the kernel** (in the menubar, select Kernel$\\rightarrow$Restart) and then **run all cells** (in the menubar, select Cell$\\rightarrow$Run All).\n",
    "\n",
    "Make sure you fill in any place that says `YOUR CODE HERE` or \"YOUR ANSWER HERE\", specify your name and that of your collaborator, and remove the `notimplemented` exception.\n",
    "\n"
   ]
  },
  {
   "cell_type": "markdown",
   "metadata": {},
   "source": [
    "---"
   ]
  },
  {
   "cell_type": "code",
   "execution_count": 1,
   "metadata": {
    "collapsed": true
   },
   "outputs": [],
   "source": [
    "NAME: \"Ze Yang\"\n",
    "COLLABORATOR: \"\""
   ]
  },
  {
   "cell_type": "markdown",
   "metadata": {},
   "source": [
    "## Market Impact\n",
    "\n",
    "Deciding when and how to trade large orders is fundamental to designing algorithmic trading engines (algos).  VWAP and TWAP were some of the first algos.  To design algos effectively, volume, spread and volatility profiles (built in HW3) are needed.\n",
    "\n",
    "We now turn our attention to the cost that comes with every trading decision - the market impact.\n",
    "\n",
    "This assignment will walk you through querying and efficiently merging a large trade and quote dataset, using the [Lee and Ready (1991)](https://onlinelibrary.wiley.com/doi/epdf/10.1111/j.1540-6261.1991.tb02683.x) algorithm to determine if the trades are buyer or seller initiated, and finally using regression to compute ([Kyle's lambda 1985](https://www.rhsmith.umd.edu/files/Documents/Centers/CFP/research/kyle1985.pdf)) as a measure if each stock's liquidity. The final question asks you to predict market impact using the Square Root Law.\n",
    "\n",
    "The previous assignment focused on locally analyzing the raw trade and quote data.  Now that our analysis is growing, this is not be possible.  This assignment pushes much of the heavy lifting back to the Kdb+ server and returns summarized data to your Jupyter Notebook for further analysis."
   ]
  },
  {
   "cell_type": "markdown",
   "metadata": {},
   "source": [
    "We start by opening a connection to the NYSE Daily TAQ database. The generated integer saved in `h` is a Kdb+ file handle.  It will be used for all database communication.\n",
    "\n",
    "NOTE: The database is located on a CMU server - behind the firewall.  If you are doing this assignment from home, you will need to connect to the CMU network using the Cisco AnyConnect VPN software."
   ]
  },
  {
   "cell_type": "code",
   "execution_count": 2,
   "metadata": {},
   "outputs": [
    {
     "name": "stdout",
     "output_type": "stream",
     "text": [
      "8i\n"
     ]
    }
   ],
   "source": [
    "\\c 5 100\n",
    "h:0N!hopen `$\":tpr-mscf-kx.tepper.cmu.edu:5000:mscf2018:mmat46982\""
   ]
  },
  {
   "cell_type": "markdown",
   "metadata": {},
   "source": [
    "### Part A (1 points)\n",
    "\n",
    "Complete the `tradequery` function so that it:\n",
    "\n",
    "1. **Selects trade information for a list of stocks for a single day and the given time range and trade conditions.**\n",
    "\n",
    "Given a start time, end time, list of symbol and string of desired trade conditions, return a table with only the date,time,sym,price and size columns from the `trade` table."
   ]
  },
  {
   "cell_type": "code",
   "execution_count": 3,
   "metadata": {
    "collapsed": true,
    "deletable": false,
    "nbgrader": {
     "checksum": "e8a7c998559b1b8001bf436b75127ecc",
     "grade": false,
     "grade_id": "tradequery",
     "locked": false,
     "schema_version": 1,
     "solution": true
    }
   },
   "outputs": [],
   "source": [
    "/ (s)tart (t)ime, (e)nd (t)ime, list of (s)ym, trade (c)ondition codes, (d)a(t)e\n",
    "tradequery:{[st;et;s;c;dt]\n",
    "    / YOUR CODE HERE\n",
    "    t:select date, time, sym, price, size from trade where date=dt, sym in s, time within (st,et), cond in c;\n",
    "    t}"
   ]
  },
  {
   "cell_type": "code",
   "execution_count": 4,
   "metadata": {
    "deletable": false,
    "editable": false,
    "nbgrader": {
     "checksum": "7ceec2d43483b3150dc229231a35d11f",
     "grade": false,
     "grade_id": "cell-fa36bd2ff8611def",
     "locked": true,
     "schema_version": 1,
     "solution": false
    }
   },
   "outputs": [
    {
     "data": {
      "text/plain": [
       "date       time                 sym  price  size\n",
       "------------------------------------------------\n",
       "2018.09.04 0D09:30:00.075702685 AAPL 228.48 100 \n",
       "2018.09.04 0D09:30:00.369093964 AAPL 228.4  700 \n",
       "2018.09.04 0D09:30:00.369104482 AAPL 228.4  300 \n",
       "2018.09.04 0D09:30:00.457390071 AAPL 228.4  100 \n",
       "2018.09.04 0D09:30:00.575786516 AAPL 228.39 100 \n",
       "..\n"
      ]
     },
     "execution_count": 4,
     "metadata": {},
     "output_type": "execute_result"
    }
   ],
   "source": [
    "/ list of symbols in the dow jones industria average (djia)\n",
    "syms:`MMM`AXP`AAPL`BA`CAT`CVX`CSCO`KO`DIS`DWDP\n",
    "syms,:`XOM`GS`HD`IBM`INTC`JNJ`JPM`MCD`MRK`MSFT\n",
    "syms,:`NKE`PFE`PG`TRV`UTX`UNH`VZ`V`WMT`WBA\n",
    "\n",
    "/ pass function to the database for execution\n",
    "h (tradequery;09:30;09:35;syms;\" \";2018.09.04)"
   ]
  },
  {
   "cell_type": "markdown",
   "metadata": {},
   "source": [
    "Your results should match the following:\n",
    "```\n",
    "date       time                 sym  price  size\n",
    "------------------------------------------------\n",
    "2018.09.04 0D09:30:00.075702685 AAPL 228.48 100 \n",
    "2018.09.04 0D09:30:00.369093964 AAPL 228.4  700 \n",
    "2018.09.04 0D09:30:00.369104482 AAPL 228.4  300 \n",
    "2018.09.04 0D09:30:00.457390071 AAPL 228.4  100 \n",
    "2018.09.04 0D09:30:00.575786516 AAPL 228.39 100 \n",
    "..\n",
    "```"
   ]
  },
  {
   "cell_type": "code",
   "execution_count": 5,
   "metadata": {
    "collapsed": true,
    "deletable": false,
    "editable": false,
    "nbgrader": {
     "checksum": "773b395eb0403e69d5f9217c04050ece",
     "grade": true,
     "grade_id": "correct_tradequery",
     "locked": true,
     "points": 1,
     "schema_version": 1,
     "solution": false
    }
   },
   "outputs": [],
   "source": [
    "rnd:{x*\"j\"$y%x}\n",
    "assert:{if[not x~y;'`$\"expecting '\",(-3!x),\"' but found '\",(-3!y),\"'\"]}\n",
    "/ confirm all columns are included\n",
    "assert[`date`time`sym`price`size] cols h (tradequery;09:30;16:00;`BAC;\"O\";2018.09.04)\n",
    "/ confirm schema is correct\n",
    "assert[\"dnsei\"] first flip value meta h (tradequery;09:30;16:00;`BAC;\"O\";2018.09.01)\n",
    "/ confirm query only selects specified dates\n",
    "assert[1#2018.09.10]  exec distinct date from h (tradequery;09:30;16:00;`BAC;\"O\";2018.09.10)\n",
    "/ confirm only requested sym has been returned\n",
    "assert[`BAC`TSLA] exec distinct sym from h (tradequery;09:30;16:00;`BAC`TSLA;\"O\";2018.09.04)\n",
    "/ confirm only data within the expected time range is returned\n",
    "assert[1b] all within[;09:30 16:00]exec time from h (tradequery;09:30;16:00;`BAC;\"O\";2018.09.10)\n",
    "assert[1b] all within[;09:30 12:00]exec time from h (tradequery;09:30;12:00;`BAC;\"O\";2018.09.10)\n",
    "/ confirm only selected condition codes have been returned\n",
    "assert[2] count h (tradequery;09:30;16:00;`BAC;\"O\";2018.09.10)\n",
    "assert[7235] count h (tradequery;09:30;10:00;`BAC;\" O\";2018.09.10)"
   ]
  },
  {
   "cell_type": "markdown",
   "metadata": {},
   "source": [
    "### Part B (1 points)\n",
    "\n",
    "Without having actual order information, we will need to first guestimate if each trade is buyer or seller initiated using the Lee and Ready algorithm:\n",
    "\n",
    "- If trade is closer to bid, it is seller initiated\n",
    "- Else if trade is closer to ask, it is buyer initiated\n",
    "- Else:\n",
    "  - If last tick was an uptick, it is buyer initiated\n",
    "  - Else it was seller initiated\n",
    "\n",
    "With the trade information in hand, we can determine if each trade is an up-tick or down-tick.\n",
    "\n",
    "Complete the `tickquery` function so that it\n",
    "1. Selects trade information for a list of stocks for a single days for the given time range and trade conditions.\n",
    "2. **Adds a new column `tick` that indicates if the trade was above or below the previous trade (deferring to the trades before it in the case of no change).**"
   ]
  },
  {
   "cell_type": "code",
   "execution_count": 6,
   "metadata": {
    "deletable": false,
    "nbgrader": {
     "checksum": "fa3cd675e2e4ed74221439fce302035f",
     "grade": false,
     "grade_id": "tickquery",
     "locked": false,
     "schema_version": 1,
     "solution": true
    }
   },
   "outputs": [],
   "source": [
    "/ (s)tart (t)ime, (e)nd (t)ime, list of (s)ym, trade (c)ondition codes, (d)a(t)e\n",
    "tickquery:{[st;et;s;c;dt]\n",
    "    / YOUR CODE HERE\n",
    "    t:select date, time, sym, price, size from trade where date=dt, sym in s, time within (st,et), cond in c;\n",
    "    t:update tick: fills -1 0N 1@1+signum price-prev[first price;price] by sym from t;\n",
    "    t}"
   ]
  },
  {
   "cell_type": "code",
   "execution_count": 7,
   "metadata": {
    "deletable": false,
    "editable": false,
    "nbgrader": {
     "checksum": "96a2bc028d89b176963d62b7b75b91e1",
     "grade": false,
     "grade_id": "cell-bf0ef369b77f14c6",
     "locked": true,
     "schema_version": 1,
     "solution": false
    }
   },
   "outputs": [
    {
     "data": {
      "text/plain": [
       "date       time                 sym  price  size tick\n",
       "-----------------------------------------------------\n",
       "2018.09.04 0D09:30:00.075702685 AAPL 228.48 100      \n",
       "2018.09.04 0D09:30:00.369093964 AAPL 228.4  700  -1  \n",
       "2018.09.04 0D09:30:00.369104482 AAPL 228.4  300  -1  \n",
       "2018.09.04 0D09:30:00.457390071 AAPL 228.4  100  -1  \n",
       "2018.09.04 0D09:30:00.575786516 AAPL 228.39 100  -1  \n",
       "..\n"
      ]
     },
     "execution_count": 7,
     "metadata": {},
     "output_type": "execute_result"
    }
   ],
   "source": [
    "/ pass function to the database for execution\n",
    "h (tickquery;09:30;09:35;syms;\" \";2018.09.04)"
   ]
  },
  {
   "cell_type": "markdown",
   "metadata": {},
   "source": [
    "Your results should match the following:\n",
    "```\n",
    "date       time                 sym  price  size tick\n",
    "-----------------------------------------------------\n",
    "2018.09.04 0D09:30:00.075702685 AAPL 228.48 100      \n",
    "2018.09.04 0D09:30:00.369093964 AAPL 228.4  700  -1  \n",
    "2018.09.04 0D09:30:00.369104482 AAPL 228.4  300  -1  \n",
    "2018.09.04 0D09:30:00.457390071 AAPL 228.4  100  -1  \n",
    "2018.09.04 0D09:30:00.575786516 AAPL 228.39 100  -1  \n",
    "..\n",
    "```"
   ]
  },
  {
   "cell_type": "code",
   "execution_count": 8,
   "metadata": {
    "deletable": false,
    "editable": false,
    "nbgrader": {
     "checksum": "63392e36ae6431d736b22f75701b72bb",
     "grade": true,
     "grade_id": "correct_tickquery",
     "locked": true,
     "points": 1,
     "schema_version": 1,
     "solution": false
    }
   },
   "outputs": [],
   "source": [
    "/ confirm all columns are included\n",
    "assert[`date`time`sym`price`size`tick] cols h (tickquery;09:30;16:00;syms;\"O\";2018.09.04)\n",
    "/ confirm schema is correct\n",
    "assert[\"dnseij\"] first flip value meta h (tickquery;09:30;09:32;syms;\"O\";2018.09.01)\n",
    "/ confirm queried data is accurate\n",
    "assert[33] count h (tickquery;09:30;09:32;syms;\"O\";2018.09.04)\n",
    "assert[`AAPL`MSFT!39 12] `AAPL`MSFT#exec sum tick by sym from h (tickquery;09:30;09:32;syms;\" \";2018.09.04)"
   ]
  },
  {
   "cell_type": "markdown",
   "metadata": {},
   "source": [
    "### Part C (1 points)\n",
    "\n",
    "To continue with our attempt to determine if each trade is buyer or seller initiated by using the Lee and Ready algorithm, we need to mark if each trade was above or below the mid price. This problem requires you to (efficiently) join the previously created `trade` query with the `nbbo` table.\n",
    "\n",
    "Complete the `taqquery` function so that it:\n",
    "\n",
    "1. Selects trade information for a list of stocks for a single days for the given time range and trade conditions.\n",
    "2. Adds a new column `tick` that indicates if the trade was above or below the previous trade (deferring to the trades before it in the case of no change).\n",
    "3. **Queries the time,sym,bsize,bid,ask, and asize columns from the `nbbo` table for the specified date.**\n",
    "4. **Uses the `aj` operator to join the results of this query to the results of the trade query - making sure that the first argument to the `aj` operator includes all the necessary columns (and in the correct order).**\n",
    "\n",
    "NOTE: In order for this query to finish in a reasonable time, Kdb+ must be able to quickly find the right quote for each trade.  Make sure your query of the nbbo table maintains a ```p`` attribute on the sym column, or apply a new one if it doesn't already have one."
   ]
  },
  {
   "cell_type": "code",
   "execution_count": 9,
   "metadata": {
    "collapsed": true,
    "deletable": false,
    "nbgrader": {
     "checksum": "9a092d2be4195cf25f953702299aad61",
     "grade": false,
     "grade_id": "taqrquery",
     "locked": false,
     "schema_version": 1,
     "solution": true
    }
   },
   "outputs": [],
   "source": [
    "/ (s)tart (t)ime, (e)nd (t)ime, list of (s)ym, trade (c)ondition codes, (d)a(t)e\n",
    "taqquery:{[st;et;s;c;dt]\n",
    "    / YOUR CODE HERE\n",
    "    t:select date,time,`p#sym,price,size from trade where date=dt, sym in s, time within (st,et), cond in c;\n",
    "    t:update tick: fills -1 0N 1i@1+signum price-prev[first price;price] by sym from t;\n",
    "    n:select time,`p#sym,bsize,bid,ask,asize from nbbo where date=dt, sym in s;\n",
    "    t:aj[`sym`time;t] n;\n",
    "    t}"
   ]
  },
  {
   "cell_type": "code",
   "execution_count": 10,
   "metadata": {
    "deletable": false,
    "editable": false,
    "nbgrader": {
     "checksum": "d5489bcd34e5df56882f32053d15a37c",
     "grade": false,
     "grade_id": "cell-08f143b9ca151d7c",
     "locked": true,
     "schema_version": 1,
     "solution": false
    }
   },
   "outputs": [
    {
     "data": {
      "text/plain": [
       "date       time                 sym  price  size tick bsize bid    ask    asize\n",
       "-------------------------------------------------------------------------------\n",
       "2018.09.04 0D09:30:00.075702685 AAPL 228.48 100       1     228.4  228.49 1    \n",
       "2018.09.04 0D09:30:00.369093964 AAPL 228.4  700  -1   2     228.37 228.4  10   \n",
       "2018.09.04 0D09:30:00.369104482 AAPL 228.4  300  -1   2     228.37 228.4  10   \n",
       "2018.09.04 0D09:30:00.457390071 AAPL 228.4  100  -1   1     228.4  228.46 3    \n",
       "2018.09.04 0D09:30:00.575786516 AAPL 228.39 100  -1   1     228.31 228.42 2    \n",
       "..\n"
      ]
     },
     "execution_count": 10,
     "metadata": {},
     "output_type": "execute_result"
    }
   ],
   "source": [
    "/ pass function to the database for execution\n",
    "h (taqquery;09:30;09:35;syms;\" \";2018.09.04)"
   ]
  },
  {
   "cell_type": "markdown",
   "metadata": {},
   "source": [
    "Your results should match the following:\n",
    "```\n",
    "date       time                 sym  price  size tick bsize bid    ask    asize\n",
    "-------------------------------------------------------------------------------\n",
    "2018.09.04 0D09:30:00.075702685 AAPL 228.48 100       1     228.4  228.49 1    \n",
    "2018.09.04 0D09:30:00.369093964 AAPL 228.4  700  -1   2     228.37 228.4  10   \n",
    "2018.09.04 0D09:30:00.369104482 AAPL 228.4  300  -1   2     228.37 228.4  10   \n",
    "2018.09.04 0D09:30:00.457390071 AAPL 228.4  100  -1   1     228.4  228.46 3    \n",
    "2018.09.04 0D09:30:00.575786516 AAPL 228.39 100  -1   1     228.31 228.42 2    \n",
    "..\n",
    "```"
   ]
  },
  {
   "cell_type": "code",
   "execution_count": 11,
   "metadata": {
    "deletable": false,
    "editable": false,
    "nbgrader": {
     "checksum": "00bbbc9304962d78a2ab4300e7d1b97c",
     "grade": true,
     "grade_id": "correct_taqquery",
     "locked": true,
     "points": 1,
     "schema_version": 1,
     "solution": false
    }
   },
   "outputs": [],
   "source": [
    "/ confirm all columns are included\n",
    "assert[`date`time`sym`price`size`tick`bsize`bid`ask`asize] cols h (taqquery;09:30;16:00;syms;\"O\";2018.09.04)\n",
    "/ confirm schema is correct\n",
    "assert[\"dnseiiieei\"] first flip value meta h (taqquery;09:30;09:32;syms;\"O\";2018.09.01)\n",
    "/ confirm queried data is accurate\n",
    "assert[33] count h (taqquery;09:30;09:32;syms;\"O\";2018.09.04)\n",
    "assert[`sym`bid`ask!(`XOM;79.84e;79.87e)] `sym`bid`ask#last h (taqquery;09:30;09:32;syms;\" \";2018.09.04)"
   ]
  },
  {
   "cell_type": "markdown",
   "metadata": {},
   "source": [
    "### Part D (1 points)\n",
    "\n",
    "With the trade and quote data now joined, it is possible to compute the prevailing mid price at each trade and finally determine the assumed `side` of each trade.  While we will never know the real intention of each trade (because it will always include both a buyer and sell, we can create a good estimate of the more aggressive side of the trade buy using the Lee and Ready Algorithm.\n",
    "\n",
    "Complete the `landrquery` function so that it:\n",
    "\n",
    "1. Selects trade information for a list of stocks for a single days for the given time range and trade conditions.\n",
    "2. Adds a new column `tick` that indicates if the trade was above or below the previous trade (deferring to the trades before it in the case of no change).\n",
    "3. Queries the time,sym,bsize,bid,ask, and asize columns from the `nbbo` table for the specified date.\n",
    "4. Uses the `aj` operator to join the results of this query to the results of the trade query - making sure that the first argument to the `aj` operator includes all the necessary columns (and in the correct order).\n",
    "5. **Adds a `mid` price column to the table (casting it to type \"e\" to make it comparable with the `price`column)**\n",
    "6. **Adds a `side` column that is calculated by using the Lee & Ready algorithm**\n",
    "\n",
    "Again, the Lee and Ready algorithm is defined here.  Using the `tick` column from step 2 and the mid price from step 5, you should be able to use the vector conditional operator `?[;;]` (in fact, you will use it two times) to determine the side of the trade.\n",
    "\n",
    "- If trade is closer to bid, it is seller initiated\n",
    "- Else if trade is closer to ask, it is buyer initiated\n",
    "- Else:\n",
    "  - If last tick was an uptick, it is buyer initiated\n",
    "  - Else it was seller initiated\n"
   ]
  },
  {
   "cell_type": "code",
   "execution_count": 12,
   "metadata": {
    "deletable": false,
    "nbgrader": {
     "checksum": "aea7c6271a943dba79d369ae02379ad2",
     "grade": false,
     "grade_id": "landrquery",
     "locked": false,
     "schema_version": 1,
     "solution": true
    }
   },
   "outputs": [],
   "source": [
    "/ (s)tart (t)ime, (e)nd (t)ime, list of (s)ym, trade (c)ondition codes, (d)a(t)e\n",
    "landrquery:{[st;et;s;c;dt]\n",
    "    / YOUR CODE HERE\n",
    "    t:select date,time,`p#sym,price,size from trade where date=dt, sym in s, time within (st,et), cond in c;\n",
    "    t:update tick: fills -1 0N 1i@1+signum price-prev[first price;price] by sym from t;\n",
    "    n:select time,`p#sym,bsize,bid,ask,asize from nbbo where date=dt, sym in s;\n",
    "    t:aj[`sym`time;t] n;\n",
    "    t:update mid: \"e\"$(bid+ask)%2 from t;\n",
    "    t:update side: ?[price>mid;1;?[price<mid;-1;tick]] from t;\n",
    "    t}"
   ]
  },
  {
   "cell_type": "code",
   "execution_count": 13,
   "metadata": {
    "deletable": false,
    "editable": false,
    "nbgrader": {
     "checksum": "71919f387582fd22edd8527fd2ec5946",
     "grade": false,
     "grade_id": "cell-19ee625e577d26b2",
     "locked": true,
     "schema_version": 1,
     "solution": false
    }
   },
   "outputs": [
    {
     "data": {
      "text/plain": [
       "date       time                 sym  price  size tick bsize bid    ask    asize mid     side\n",
       "--------------------------------------------------------------------------------------------\n",
       "2018.09.04 0D09:30:00.075702685 AAPL 228.48 100       1     228.4  228.49 1     228.445 1   \n",
       "2018.09.04 0D09:30:00.369093964 AAPL 228.4  700  -1   2     228.37 228.4  10    228.385 1   \n",
       "2018.09.04 0D09:30:00.369104482 AAPL 228.4  300  -1   2     228.37 228.4  10    228.385 1   \n",
       "2018.09.04 0D09:30:00.457390071 AAPL 228.4  100  -1   1     228.4  228.46 3     228.43  -1  \n",
       "2018.09.04 0D09:30:00.575786516 AAPL 228.39 100  -1   1     228.31 228.42 2     228.365 1   \n",
       "..\n"
      ]
     },
     "execution_count": 13,
     "metadata": {},
     "output_type": "execute_result"
    }
   ],
   "source": [
    "/ pass function to the database for execution\n",
    "h (landrquery;09:30;09:35;syms;\" \";2018.09.04)"
   ]
  },
  {
   "cell_type": "markdown",
   "metadata": {},
   "source": [
    "Your results should match the following:\n",
    "```\n",
    "date       time                 sym  price  size tick bsize bid    ask    asize mid     side\n",
    "--------------------------------------------------------------------------------------------\n",
    "2018.09.04 0D09:30:00.075702685 AAPL 228.48 100       1     228.4  228.49 1     228.445 1   \n",
    "2018.09.04 0D09:30:00.369093964 AAPL 228.4  700  -1   2     228.37 228.4  10    228.385 1   \n",
    "2018.09.04 0D09:30:00.369104482 AAPL 228.4  300  -1   2     228.37 228.4  10    228.385 1   \n",
    "2018.09.04 0D09:30:00.457390071 AAPL 228.4  100  -1   1     228.4  228.46 3     228.43  -1  \n",
    "2018.09.04 0D09:30:00.575786516 AAPL 228.39 100  -1   1     228.31 228.42 2     228.365 1   \n",
    "..\n",
    "```"
   ]
  },
  {
   "cell_type": "code",
   "execution_count": 14,
   "metadata": {
    "collapsed": true,
    "deletable": false,
    "editable": false,
    "nbgrader": {
     "checksum": "56d80abeff2ea9c1b7779ed4a1125604",
     "grade": true,
     "grade_id": "correct_landrquery",
     "locked": true,
     "points": 1,
     "schema_version": 1,
     "solution": false
    }
   },
   "outputs": [],
   "source": [
    "/ confirm all columns are included\n",
    "assert[`date`time`sym`price`size`tick`bsize`bid`ask`asize`mid`side] cols h (landrquery;09:30;16:00;syms;\"O\";2018.09.04)\n",
    "/ confirm schema is correct\n",
    "assert[\"dnseiiieeiej\"] first flip value meta h (landrquery;09:30;09:32;syms;\"O\";2018.09.01)\n",
    "/ confirm queried data is accurate\n",
    "assert[33] count h (landrquery;09:30;09:32;syms;\"O\";2018.09.04)\n",
    "assert[([]sym:2#`XOM;side:-1 1)] `sym`side#-2#h (landrquery;09:30;09:32;syms;\" \";2018.09.04)"
   ]
  },
  {
   "cell_type": "markdown",
   "metadata": {},
   "source": [
    "### Part E (1 points)\n",
    "\n",
    "We now have the assumed `side` of each trade and can begin computing minute summaries 'flow' so the size of the data returned is not very large.\n",
    "\n",
    "Complete the `landrquerysumary` function so that it:\n",
    "\n",
    "1. Selects trade information for a list of stocks for a single days for the given time range and trade conditions.\n",
    "2. Adds a new column `tick` that indicates if the trade was above or below the previous trade (deferring to the trades before it in the case of no change).\n",
    "3. Queries the time,sym,bsize,bid,ask, and asize columns from the `nbbo` table for the specified date.\n",
    "4. Uses the `aj` operator to join the results of this query to the results of the trade query - making sure that the first argument to the `aj` operator includes all the necessary columns (and in the correct order).\n",
    "5. Adds a `mid` price column to the table (casting it to type \"e\" to make it comparable with the `price`column)\n",
    "6. Adds a `side` column that is calculated by using the Lee & Ready algorithm\n",
    "7. **Computes the net quantity traded (buy size - sell size), and the change in mid price for each sym of each window (in minutes).  The returned table should have five columns: ```date`minute`sym`size`dprice``**"
   ]
  },
  {
   "cell_type": "code",
   "execution_count": 15,
   "metadata": {
    "collapsed": true,
    "deletable": false,
    "nbgrader": {
     "checksum": "7b8f6c9ad56f8545318deae8446a091a",
     "grade": false,
     "grade_id": "landrquerysum",
     "locked": false,
     "schema_version": 1,
     "solution": true
    }
   },
   "outputs": [],
   "source": [
    "/ (s)tart (t)ime, (e)nd (t)ime, list of (s)ym, trade (c)ondition codes, (w)indow size in minutes, (d)a(t)e\n",
    "landrquerysummary:{[st;et;s;c;w;dt]\n",
    "    / YOUR CODE HERE\n",
    "    t:select date,time,`p#sym,price,size from trade where date=dt, sym in s, time within (st,et), cond in c;\n",
    "    t:update tick: fills -1 0N 1i@1+signum price-prev[first price;price] by sym from t;\n",
    "    n:select time,`p#sym,bsize,bid,ask,asize from nbbo where date=dt, sym in s;\n",
    "    t:aj[`sym`time;t] n;\n",
    "    t:update mid: \"e\"$(bid+ask)%2 from t;\n",
    "    t:update side: ?[price>mid;1;?[price<mid;-1;tick]] from t;\n",
    "    t:select size: sum size*side, dprice:last mid-first mid by date,w xbar time.minute,sym from t;\n",
    "    t}"
   ]
  },
  {
   "cell_type": "code",
   "execution_count": 16,
   "metadata": {
    "deletable": false,
    "editable": false,
    "nbgrader": {
     "checksum": "8be5791d1677521707251c5d791538d7",
     "grade": false,
     "grade_id": "cell-282ad02d53729d3c",
     "locked": true,
     "schema_version": 1,
     "solution": false
    }
   },
   "outputs": [
    {
     "data": {
      "text/plain": [
       "date       minute sym | size   dprice    \n",
       "----------------------| -----------------\n",
       "2018.09.04 09:30  AAPL| 12037  0.01998901\n",
       "2018.09.04 09:30  AXP | 13762  -0.4899979\n",
       "2018.09.04 09:30  BA  | -12569 -0.190033 \n",
       "2018.09.04 09:30  CAT | -9941  -0.1799927\n",
       "2018.09.04 09:30  CSCO| 10718  0.1000023 \n",
       "..\n"
      ]
     },
     "execution_count": 16,
     "metadata": {},
     "output_type": "execute_result"
    }
   ],
   "source": [
    "/ pass function to the database for execution\n",
    "h (landrquerysummary;09:30;09:35;syms;\" \";5;2018.09.04)"
   ]
  },
  {
   "cell_type": "markdown",
   "metadata": {},
   "source": [
    "Your results should match the following:\n",
    "```\n",
    "date       minute sym | size   dprice    \n",
    "----------------------| -----------------\n",
    "2018.09.04 09:30  AAPL| 12037  0.01998901\n",
    "2018.09.04 09:30  AXP | 13762  -0.4899979\n",
    "2018.09.04 09:30  BA  | -12569 -0.190033 \n",
    "2018.09.04 09:30  CAT | -9941  -0.1799927\n",
    "2018.09.04 09:30  CSCO| 10718  0.1000023 \n",
    "..\n",
    "```"
   ]
  },
  {
   "cell_type": "code",
   "execution_count": 17,
   "metadata": {
    "deletable": false,
    "editable": false,
    "nbgrader": {
     "checksum": "b0aad695e67b20f15efb61337cde6d65",
     "grade": true,
     "grade_id": "correct_landrquerysum",
     "locked": true,
     "points": 1,
     "schema_version": 1,
     "solution": false
    }
   },
   "outputs": [],
   "source": [
    "w:5 / define window size\n",
    "/ confirm all columns are included\n",
    "assert[`date`minute`sym`size`dprice] cols h (landrquerysummary;09:30;16:00;syms;\"O\";w;2018.09.04)\n",
    "/ confirm schema is correct\n",
    "assert[\"dusje\"] first flip value meta h (landrquerysummary;09:30;09:32;syms;\"O\";w;2018.09.01)\n",
    "/ confirm queried data is accurate\n",
    "assert[180] count h (landrquerysummary;09:30;10:00;syms;\" \";w; 2018.09.04)\n",
    "assert[328831 -.12] rnd[.01] value h[(landrquerysummary;09:30;10:00;syms;\" \";w;2018.09.04)](2018.09.04;09:35;`CSCO)"
   ]
  },
  {
   "cell_type": "markdown",
   "metadata": {},
   "source": [
    "NYSE Daily TAQ Kdb+ tables are designed to perform well on daily queries. Our `landrquerysumary` function produces Lee and Ready summary statistics for a list of symbols with minutely buckets `w` on a single date. We can run the query over multiple dates and combine the results locally.  We don't want to run a very long function on the server, (it is not fair for everyone else and there is a per-client timeout) so we should loop over each date locally."
   ]
  },
  {
   "cell_type": "code",
   "execution_count": 18,
   "metadata": {
    "deletable": false,
    "editable": false,
    "nbgrader": {
     "checksum": "8b1383176df6a5a3cc7322e1a38e07ac",
     "grade": false,
     "grade_id": "cell-8a7dceda21ac592c",
     "locked": true,
     "schema_version": 1,
     "solution": false
    }
   },
   "outputs": [
    {
     "name": "stdout",
     "output_type": "stream",
     "text": [
      "date       minute sym | size   dprice    \n",
      "----------------------| -----------------\n",
      "2018.09.04 09:30  AAPL| 12037  0.01998901\n",
      "2018.09.04 09:30  AXP | 13762  -0.4899979\n",
      "2018.09.04 09:30  BA  | -12569 -0.190033 \n",
      "2018.09.04 09:30  CAT | -9941  -0.1799927\n",
      "2018.09.04 09:30  CSCO| 10718  0.1000023 \n",
      "..\n"
     ]
    }
   ],
   "source": [
    "/ here comes the heavy lifting, we now query a full day's worth of data\n",
    "/ and loop over 4 days.  Written efficiently, your query should only take 8.5 seconds\n",
    "show t:raze {[dt]h (landrquerysummary;09:30;16:00;syms;\" \";5;dt)} each 2018.09.04+til 4"
   ]
  },
  {
   "cell_type": "markdown",
   "metadata": {},
   "source": [
    "The results should match the following:\n",
    "```\n",
    "date       minute sym | size   dprice    \n",
    "----------------------| -----------------\n",
    "2018.09.04 09:30  AAPL| 12037  0.01998901\n",
    "2018.09.04 09:30  AXP | 13762  -0.4899979\n",
    "2018.09.04 09:30  BA  | -12569 -0.190033 \n",
    "2018.09.04 09:30  CAT | -9941  -0.1799927\n",
    "2018.09.04 09:30  CSCO| 10718  0.1000023 \n",
    "..\n",
    "```"
   ]
  },
  {
   "cell_type": "markdown",
   "metadata": {},
   "source": [
    "### Part F (1 points)\n",
    "\n",
    "With the traded volumes and resulting market moves, we can now regress Kyle's lambda from the formula:\n",
    "\n",
    "$$\\Delta m_t = \\mu + \\lambda q_t + \\epsilon_t$$\n",
    "\n",
    "where: \n",
    "- $\\Delta m_t$ is the change in mid price over time $t$\n",
    "- $\\mu$ is the stock trend/drift\n",
    "- $q_t$ is the order imbalance (total buy - sell orders)\n",
    "\n",
    "This problem asks you to write a function that will regress two vectors `x` and `y` with the option of also fitting the y intercept.\n",
    "\n",
    "The Kdb+ `lsq` operator is written to perform least squares regression over multiple dimensions.  we will only be using it on a single dimension `x` vs `y`.  Our `regress` function will accept vectors, convert them to matrices before finally return the result as a vector as well.\n",
    "\n",
    "Complete the `regress` function so that it: \n",
    "\n",
    "1. Checks the `int` parameter and either converts `y` into a one-column matrix or a two-column matrix with the first column being a list of ones (if `int` is true)\n",
    "2. Converts vector `x` into a one-column matrix.\n",
    "3. Uses the `lsq` operator to perform least squares regression on the two matrices\n",
    "4. Returns the first dimension of the resulting one-column matrix.\n",
    "\n"
   ]
  },
  {
   "cell_type": "code",
   "execution_count": 19,
   "metadata": {
    "collapsed": true,
    "deletable": false,
    "nbgrader": {
     "checksum": "830e089cc44bc5a782d98ba8d5cdc271",
     "grade": false,
     "grade_id": "regress",
     "locked": false,
     "schema_version": 1,
     "solution": true
    }
   },
   "outputs": [],
   "source": [
    "/ perform ordinary least squares regression on `x` and `y` optionally fitting the `y` (int)ercept\n",
    "regress:{[int;x;y]\n",
    " / YOUR CODE HERE\n",
    " r:enlist[y] lsq ?[int;(count[x]#1f;x);enlist[x]];\n",
    " r[0;]}"
   ]
  },
  {
   "cell_type": "code",
   "execution_count": 20,
   "metadata": {
    "deletable": false,
    "editable": false,
    "nbgrader": {
     "checksum": "862f88aaf4cefea42f669ad9a256f8f9",
     "grade": false,
     "grade_id": "cell-0d27e09797898ef0",
     "locked": true,
     "schema_version": 1,
     "solution": false
    }
   },
   "outputs": [
    {
     "data": {
      "text/plain": [
       "2.56395e-16 1\n"
      ]
     },
     "execution_count": 20,
     "metadata": {},
     "output_type": "execute_result"
    }
   ],
   "source": [
    "regress[1b;1 2 3f;1 2 3f]"
   ]
  },
  {
   "cell_type": "markdown",
   "metadata": {},
   "source": [
    "Your results should match the following:\n",
    "```\n",
    "2.56395e-16 1\n",
    "```"
   ]
  },
  {
   "cell_type": "code",
   "execution_count": 21,
   "metadata": {
    "deletable": false,
    "editable": false,
    "nbgrader": {
     "checksum": "79e5534006e7948b650be46824cd63b0",
     "grade": true,
     "grade_id": "correct_regress",
     "locked": true,
     "points": 1,
     "schema_version": 1,
     "solution": false
    }
   },
   "outputs": [],
   "source": [
    "/ confirm regression returns the correct results\n",
    "assert[9h] type regress[0b;1 2 3f;1 2 3f]\n",
    "assert[1] count regress[0b;1 2 3f;1 2 3f]\n",
    "assert[9h] type regress[1b;1 2 3f;1 2 3f]\n",
    "assert[2] count regress[1b;1 2 3f;1 2 3f]\n",
    "assert[enlist 1f] rnd[.01] regress[0b;1 2 3f;1 2 3f]\n",
    "assert[0 1f] rnd[.01] regress[1b;1 2 3f;1 2 3f]\n",
    "assert[4 -1f] rnd[.01] regress[1b;1 2 3f;3 2 1f]"
   ]
  },
  {
   "cell_type": "markdown",
   "metadata": {},
   "source": [
    "### Part G (1 points)\n",
    "\n",
    "Let's return to the task of computing Kyle's lambda for each of the stocks in the DJIA for the few days of data stored in `t`.\n",
    "\n",
    "Complete the `kyle` function so that it:\n",
    "\n",
    "1. Regresses the price change column `dprice` against the net quantity traded column `size` for each `sym` in the table and stores the results in a `results` column. The values in the `results` column will be lists which we will need to 'pick apart'.\n",
    "2. If `int` is true, adds a `mu` column that has the first value of **each** of the `results` rows.\n",
    "3. Adds a `lambda` column that has the last value of **each** of the `results` rows.\n",
    "4. Uses the `delete` operator to remove the `results` column.\n",
    "\n",
    "The function will accept two parameters, `int` which specifies whether we want to fit the stock drift and `t` which will be a table with the sym, size and dprice columns.\n",
    "\n",
    "The resulting table should have two (or three) columns. If `int` is true, the table will have sym, mu and lambda columns, otherwise it will only have sym and lambda.\n",
    "\n",
    "NOTE: because Kdb+ overloads operators based on their type, it is important that the values in the matrices passed to the `lsq` operator are all \"f\"loats.  You will get a type error if this is not the case."
   ]
  },
  {
   "cell_type": "code",
   "execution_count": 22,
   "metadata": {
    "collapsed": true,
    "deletable": false,
    "nbgrader": {
     "checksum": "5dd44e248eb88a511b25c1a7ec39d9ad",
     "grade": false,
     "grade_id": "kyle",
     "locked": false,
     "schema_version": 1,
     "solution": true
    }
   },
   "outputs": [],
   "source": [
    "/ perform ordinary least squares regression on `x` and `y` optionally fitting the `y` (int)ercept\n",
    "kyle:{[int;t]\n",
    " / YOUR CODE HERE\n",
    " t: select result: enlist[dprice] lsq ?[int;(count[size]#1f;size); enlist(size)] by sym from t;\n",
    " if[int;t:update mu: result[;0;0],lambda:result[;0;1] from t];\n",
    " if[not int;t:update lambda:result[;0;0] from t];\n",
    " t: delete result from t;\n",
    " t}"
   ]
  },
  {
   "cell_type": "code",
   "execution_count": 23,
   "metadata": {
    "deletable": false,
    "editable": false,
    "nbgrader": {
     "checksum": "162c085782893b75c0a92ec1f97fb188",
     "grade": false,
     "grade_id": "cell-562418e83712f15a",
     "locked": true,
     "schema_version": 1,
     "solution": false
    }
   },
   "outputs": [
    {
     "data": {
      "text/plain": [
       "sym | mu           lambda      \n",
       "----| -------------------------\n",
       "AAPL| 0.02512178   6.412626e-06\n",
       "AXP | 0.007169901  2.732008e-06\n",
       "BA  | 0.04999768   3.609343e-05\n",
       "CAT | 0.01375689   1.367268e-06\n",
       "CSCO| -0.001225552 6.537366e-08\n",
       "..\n"
      ]
     },
     "execution_count": 23,
     "metadata": {},
     "output_type": "execute_result"
    }
   ],
   "source": [
    "kyle[1b;update \"f\"$dprice,\"f\"$size from t] / make sure to pass \"f\"loat values"
   ]
  },
  {
   "cell_type": "markdown",
   "metadata": {},
   "source": [
    "Your results should match the following:\n",
    "```\n",
    "sym | mu           lambda      \n",
    "----| -------------------------\n",
    "AAPL| 0.02512178   6.412626e-06\n",
    "AXP | 0.007169901  2.732008e-06\n",
    "BA  | 0.04999768   3.609343e-05\n",
    "CAT | 0.01375689   1.367268e-06\n",
    "CSCO| -0.001225552 6.537366e-08\n",
    "..\n",
    "```"
   ]
  },
  {
   "cell_type": "code",
   "execution_count": 24,
   "metadata": {
    "deletable": false,
    "editable": false,
    "nbgrader": {
     "checksum": "4ed0ccf90744878f4c1eb4a59374003f",
     "grade": true,
     "grade_id": "correct_kyle",
     "locked": true,
     "points": 1,
     "schema_version": 1,
     "solution": false
    }
   },
   "outputs": [],
   "source": [
    "/ confirm kyle returns the correct results\n",
    "assert[(30;`sym`lambda)] (count;cols)@\\: kyle[0b;update \"f\"$dprice,\"f\"$size from t]\n",
    "assert[(30;`sym`mu`lambda)] (count;cols)@\\:kyle[1b;update \"f\"$dprice,\"f\"$size from t]\n",
    "assert[(1#`lambda)!enlist 0.06 0.02] flip rnd[.01] 1e4*2#value kyle[0b;update \"f\"$dprice,\"f\"$size from t]\n",
    "assert[`mu`lambda!(251.22 71.7;0.06 0.03)] flip rnd[.01] 1e4*2#value kyle[1b;update \"f\"$dprice,\"f\"$size from t]"
   ]
  },
  {
   "cell_type": "markdown",
   "metadata": {},
   "source": [
    "### Part H (1 points)\n",
    "\n",
    "With the regression coefficients calculated, we can now compute the expected price movement (impact) for each size in the multi-day Lee and Ready summary table `t`.\n",
    "\n",
    "For this problem you should:\n",
    "\n",
    "1. Join the results of the `kyle` query (stored in the `k` variable) with the Lee and Ready summary table `t`\n",
    "2. Add a new `impact` column which uses the net traded `size` in the time bucket with the computed `lambda` for that stock to 'predict' the price move\n",
    "\n",
    "NOTE: This 'prediction' is completely *in sample* and should not be taken literally.\n"
   ]
  },
  {
   "cell_type": "code",
   "execution_count": 25,
   "metadata": {
    "deletable": false,
    "nbgrader": {
     "checksum": "17e7442bcea6bb371c5766ad3c6c05b7",
     "grade": false,
     "grade_id": "kimpact",
     "locked": false,
     "schema_version": 1,
     "solution": true
    }
   },
   "outputs": [],
   "source": [
    "k:kyle[0b;update \"f\"$dprice,\"f\"$size from t]\n",
    "/ YOUR CODE HERE\n",
    "t:t lj k\n",
    "t:update impact: lambda*size from t"
   ]
  },
  {
   "cell_type": "code",
   "execution_count": 26,
   "metadata": {
    "deletable": false,
    "editable": false,
    "nbgrader": {
     "checksum": "f335b27333144ff07809242a63671651",
     "grade": false,
     "grade_id": "cell-1307491deaac57b9",
     "locked": true,
     "schema_version": 1,
     "solution": false
    }
   },
   "outputs": [
    {
     "data": {
      "text/plain": [
       "date       minute sym | size   dprice     lambda       impact      \n",
       "----------------------| -------------------------------------------\n",
       "2018.09.04 09:30  AAPL| 12037  0.01998901 6.147495e-06 0.07399739  \n",
       "2018.09.04 09:30  AXP | 13762  -0.4899979 2.461496e-06 0.03387511  \n",
       "2018.09.04 09:30  BA  | -12569 -0.190033  3.495276e-05 -0.4393212  \n",
       "2018.09.04 09:30  CAT | -9941  -0.1799927 1.292013e-06 -0.0128439  \n",
       "2018.09.04 09:30  CSCO| 10718  0.1000023  7.144101e-08 0.0007657048\n",
       "..\n"
      ]
     },
     "execution_count": 26,
     "metadata": {},
     "output_type": "execute_result"
    }
   ],
   "source": [
    "t"
   ]
  },
  {
   "cell_type": "markdown",
   "metadata": {},
   "source": [
    "Your results should match the following:\n",
    "```\n",
    "date       minute sym | size   dprice     lambda       impact      \n",
    "----------------------| -------------------------------------------\n",
    "2018.09.04 09:30  AAPL| 12037  0.01998901 6.147495e-06 0.07399739  \n",
    "2018.09.04 09:30  AXP | 13762  -0.4899979 2.461496e-06 0.03387511  \n",
    "2018.09.04 09:30  BA  | -12569 -0.190033  3.495276e-05 -0.4393212  \n",
    "2018.09.04 09:30  CAT | -9941  -0.1799927 1.292013e-06 -0.0128439  \n",
    "2018.09.04 09:30  CSCO| 10718  0.1000023  7.144101e-08 0.0007657048\n",
    "..\n",
    "```"
   ]
  },
  {
   "cell_type": "code",
   "execution_count": 27,
   "metadata": {
    "collapsed": true,
    "deletable": false,
    "editable": false,
    "nbgrader": {
     "checksum": "1189b7222cbed54b49f2008126afd8d7",
     "grade": true,
     "grade_id": "correct_kimpact",
     "locked": true,
     "points": 1,
     "schema_version": 1,
     "solution": false
    }
   },
   "outputs": [],
   "source": [
    "/ confirm impact 'prediction' was performed correctly\n",
    "assert[`date`minute`sym`size`dprice`lambda`impact] cols t\n",
    "assert[9360] count t\n",
    "assert[12037 0.02 0 0.07] rnd[.01] value t[(2018.09.04;09:30;`AAPL)]\n",
    "assert[-14557 0.25 0 -0.01] rnd[.001] value t[(2018.09.07;09:40;`WMT)]\n"
   ]
  },
  {
   "cell_type": "markdown",
   "metadata": {},
   "source": [
    "### Part I (1 points)\n",
    "\n",
    "In addition to being a measure of market impact, Kyle's lambda can also be interpreted as a liquidity (or inverse liquidity to be more precise) measure.\n",
    "\n",
    "For this problem you should sort the table `k` so that the most liquid stock is at the top, and the least liquid stock is at the bottom.\n",
    "\n",
    "A few questions to consider:\n",
    "- Would fitting the stock drift change the results?\n",
    "- What do you think the R^2 of these regressions would be?\n",
    "- Is a linear relationship between the quantity traded and price change realistic?"
   ]
  },
  {
   "cell_type": "code",
   "execution_count": 28,
   "metadata": {
    "deletable": false,
    "nbgrader": {
     "checksum": "9cfce65ea83b523b0ff7dd583ce87ff4",
     "grade": false,
     "grade_id": "liquidity",
     "locked": false,
     "schema_version": 1,
     "solution": true
    }
   },
   "outputs": [],
   "source": [
    "/ YOUR CODE HERE\n",
    "k:kyle[0b;update \"f\"$dprice,\"f\"$size from t]\n",
    "k:select lambda by sym from k\n",
    "k:`lambda xasc k"
   ]
  },
  {
   "cell_type": "code",
   "execution_count": 29,
   "metadata": {
    "deletable": false,
    "editable": false,
    "nbgrader": {
     "checksum": "04715545a062c04a7ebbac5397152a7c",
     "grade": false,
     "grade_id": "cell-090d81a29535055a",
     "locked": true,
     "schema_version": 1,
     "solution": false
    }
   },
   "outputs": [
    {
     "data": {
      "text/plain": [
       "sym | lambda      \n",
       "----| ------------\n",
       "CSCO| 7.144101e-08\n",
       "INTC| 7.882344e-08\n",
       "KO  | 1.796685e-07\n",
       "PFE | 1.98921e-07 \n",
       "VZ  | 2.449397e-07\n",
       "..\n"
      ]
     },
     "execution_count": 29,
     "metadata": {},
     "output_type": "execute_result"
    }
   ],
   "source": [
    "k"
   ]
  },
  {
   "cell_type": "markdown",
   "metadata": {},
   "source": [
    "Your results should match the following:\n",
    "```\n",
    "sym | lambda      \n",
    "----| ------------\n",
    "CSCO| 7.144101e-08\n",
    "INTC| 7.882344e-08\n",
    "KO  | 1.796685e-07\n",
    "PFE | 1.98921e-07 \n",
    "VZ  | 2.449397e-07\n",
    "..\n",
    "```"
   ]
  },
  {
   "cell_type": "code",
   "execution_count": 30,
   "metadata": {
    "collapsed": true,
    "deletable": false,
    "editable": false,
    "nbgrader": {
     "checksum": "8df2572ce15575a5cc71c7a8593b94f4",
     "grade": true,
     "grade_id": "correct_liquidity",
     "locked": true,
     "points": 1,
     "schema_version": 1,
     "solution": false
    }
   },
   "outputs": [],
   "source": [
    "/ confirm `k` was properly sorted by impact\n",
    "assert[`BA] last last key k\n",
    "assert[`CSCO] last first key k\n"
   ]
  },
  {
   "cell_type": "markdown",
   "metadata": {},
   "source": [
    "### Part J (1 points)\n",
    "\n",
    "Market impact is not - in fact - linear with the quantity traded.  The Square Root 'Law' has been shown to be a good  estimate of the market impact, given a stock's average daily volume and volatility.\n",
    "\n",
    "$$ I(Q)\\sim\\sigma\\left(\\frac{\\mid Q\\mid}{V}\\right)^\\frac{1}{2}$$\n",
    "\n",
    "\n",
    "This question requests that you determine the impact expected for trading USD \\$1M of each of the DJIA stocks.\n",
    "\n",
    "Complete the `impact` function so that it:\n",
    "\n",
    "1. Selects the sym,size and close data for the given time window and symbols\n",
    "2. Computes the average daily volume `adv`, daily volatility `vol` and last price `close` for each symbol\n",
    "3. Adds a `qty` column which is derived from the provided `n`otional and last `close` price\n",
    "4. Adds a column with the impact as a percent `impactpct` using the square root law (assuming proportionality 1)\n",
    "5. Adds a column with the impact as a price `impactpx`\n",
    "\n",
    "The resulting table should have the following columns: sym, adv, vol, close, qty, impactpct, impactpx.\n",
    "\n",
    "NOTE: make sure to use the `sdev` function on daily **log** returns when computing volatility"
   ]
  },
  {
   "cell_type": "code",
   "execution_count": 31,
   "metadata": {
    "collapsed": true,
    "deletable": false,
    "nbgrader": {
     "checksum": "923e0799a45e3b52d1ee8d132c7b4561",
     "grade": false,
     "grade_id": "impact",
     "locked": false,
     "schema_version": 1,
     "solution": true
    }
   },
   "outputs": [],
   "source": [
    "/ computes the expected impact (in dollars) for each (s)ym when trading (n)otional\n",
    "/ average daily volume and standard deviation of each (s)ym are computed between (s)tart (d)ate and (e)nd (d)ate\n",
    "impact:{[n;sd;ed;s]\n",
    "/ YOUR CODE HERE\n",
    " t:select date,time,`p#sym,price,size from trade where date within (sd;ed), sym in s;\n",
    " t:select close: last price, size: sum size by sym, date from t;\n",
    " t:select adv: avg size, vol: sdev log close%prev close, close: last close by sym from t;\n",
    " t:update qty: n%close from t;\n",
    " t:update impactpct: vol*sqrt[abs qty%adv] from t;\n",
    " t:update impactpx: impactpct*close from t;\n",
    " t}"
   ]
  },
  {
   "cell_type": "code",
   "execution_count": 32,
   "metadata": {
    "deletable": false,
    "editable": false,
    "nbgrader": {
     "checksum": "cac2dc8132aaaf6fb68d701c9e502c93",
     "grade": false,
     "grade_id": "cell-a708bddbbb2df024",
     "locked": true,
     "schema_version": 1,
     "solution": false
    }
   },
   "outputs": [
    {
     "name": "stdout",
     "output_type": "stream",
     "text": [
      "sym | adv          vol         close  qty      impactpct    impactpx  \n",
      "----| ----------------------------------------------------------------\n",
      "AAPL| 4.031043e+07 0.0160347   225.93 4426.15  0.0001680216 0.03796112\n",
      "AXP | 3510807      0.009031966 106.89 9355.412 0.0004662408 0.04983648\n",
      "BA  | 3753490      0.01145201  372.4  2685.285 0.0003063086 0.1140693 \n",
      "CAT | 4552661      0.01159729  152.5  6557.377 0.0004401381 0.06712106\n",
      "CSCO| 2.284504e+07 0.00887877  48.73  20521.24 0.0002661084 0.01296746\n",
      "..\n"
     ]
    }
   ],
   "source": [
    "show i:h (impact;1e6;2018.09.04;2018.09.30;syms)"
   ]
  },
  {
   "cell_type": "markdown",
   "metadata": {},
   "source": [
    "Your results should match the following:\n",
    "```\n",
    "sym | adv          vol         close  qty      impactpct    impactpx  \n",
    "----| ----------------------------------------------------------------\n",
    "AAPL| 4.031043e+07 0.0160347   225.93 4426.15  0.0001680216 0.03796112\n",
    "AXP | 3510807      0.009031966 106.89 9355.412 0.0004662408 0.04983648\n",
    "BA  | 3753490      0.01145201  372.4  2685.285 0.0003063086 0.1140693 \n",
    "CAT | 4552661      0.01159729  152.5  6557.377 0.0004401381 0.06712106\n",
    "CSCO| 2.284504e+07 0.00887877  48.73  20521.24 0.0002661084 0.01296746\n",
    "..\n",
    "```"
   ]
  },
  {
   "cell_type": "code",
   "execution_count": 33,
   "metadata": {
    "collapsed": true,
    "deletable": false,
    "editable": false,
    "nbgrader": {
     "checksum": "33bc395ca420fce32340b9c05e5ebebd",
     "grade": true,
     "grade_id": "correct_impact",
     "locked": true,
     "points": 1,
     "schema_version": 1,
     "solution": false
    }
   },
   "outputs": [],
   "source": [
    "/ confirm the table columns are correct\n",
    "assert[`sym`adv`vol`close`qty`impactpct`impactpx] cols i\n",
    "/ confirm the number of rows is correct\n",
    "assert[30] count i\n",
    "/ confirm adv is computed properly\n",
    "assert[6132332 7547803] rnd[1] i[([]sym:`IBM`JNJ);`adv]\n",
    "/ confirm volatility is computed properly\n",
    "assert[0.0074 0.008] rnd[1e-4] i[([]sym:`IBM`JNJ);`vol]\n",
    "/ confirm qty is computed properly\n",
    "assert[6610 7237] rnd[1] i[([]sym:`IBM`JNJ);`qty]\n",
    "/ confirm impactpct is computed properly\n",
    "assert[0.000242 0.000248] rnd[1e-6] i[([]sym:`IBM`JNJ);`impactpct]\n",
    "/ confirm impactpx is computed properly\n",
    "assert[0.0366 0.0342] rnd[1e-4] i[([]sym:`IBM`JNJ);`impactpx]"
   ]
  },
  {
   "cell_type": "code",
   "execution_count": null,
   "metadata": {
    "collapsed": true
   },
   "outputs": [],
   "source": []
  }
 ],
 "metadata": {
  "kernelspec": {
   "display_name": "Q (kdb+)",
   "language": "q",
   "name": "qpk"
  },
  "language_info": {
   "file_extension": ".q",
   "mimetype": "text/x-q",
   "name": "q",
   "version": "3.6.0"
  }
 },
 "nbformat": 4,
 "nbformat_minor": 2
}
