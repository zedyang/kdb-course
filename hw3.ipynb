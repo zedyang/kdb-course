{
 "cells": [
  {
   "cell_type": "markdown",
   "metadata": {},
   "source": [
    "# MSCF 46982 Market Microstructure and Algorithmic Trading\n",
    "# Fall 2018 Mini 2\n",
    "\n",
    "Before you turn this problem in, make sure everything runs as expected. First, **restart the kernel** (in the menubar, select Kernel$\\rightarrow$Restart) and then **run all cells** (in the menubar, select Cell$\\rightarrow$Run All).\n",
    "\n",
    "Make sure you fill in any place that says `YOUR CODE HERE` or \"YOUR ANSWER HERE\", specify your name and that of your collaborator, and remove the `notimplemented` exception.\n",
    "\n"
   ]
  },
  {
   "cell_type": "markdown",
   "metadata": {},
   "source": [
    "---"
   ]
  },
  {
   "cell_type": "code",
   "execution_count": 1,
   "metadata": {
    "collapsed": true
   },
   "outputs": [],
   "source": [
    "NAME: \"Ze Yang\"\n",
    "COLLABORATOR: \"\""
   ]
  },
  {
   "cell_type": "markdown",
   "metadata": {},
   "source": [
    "## Volatility, Volume, Spread and Quote Profiles\n",
    "\n",
    "Electonic trading algorithms benchmarked to arrival price face a tradoff of executing immediately with the risk of having market impact, or executing slowly with the risk of executing at a bad price as the market moves away.\n",
    "\n",
    "To properly balance these tradeoffs, the algo must have an estimate about the shape of the intraday spread, volatility, volume and quote size profiles.\n",
    "\n",
    "This assignment uses actual data from [NYSE Dailty TAQ](http://www.nyxdata.com/Data-Products/Daily-TAQ) to generate these estimates."
   ]
  },
  {
   "cell_type": "markdown",
   "metadata": {},
   "source": [
    "We start by opening a connection to the NYSE Daily TAQ database. The generated integer saved in `h` is a Kdb+ file handle.  It will be used for all database communication.\n",
    "\n",
    "NOTE: The database is located on a CMU server - behind the firewall.  If you are doing this assigment from home, you will need to connect to the CMU network using the Cisco AnyConnect VPN software."
   ]
  },
  {
   "cell_type": "code",
   "execution_count": 2,
   "metadata": {},
   "outputs": [
    {
     "name": "stdout",
     "output_type": "stream",
     "text": [
      "8i\n"
     ]
    }
   ],
   "source": [
    "\\c 5 100\n",
    "h:0N!hopen `$\":tpr-mscf-kx.tepper.cmu.edu:5000:mscf2018:mmat46982\""
   ]
  },
  {
   "cell_type": "markdown",
   "metadata": {},
   "source": [
    "### Part A (1 points)\n",
    "\n",
    "Complete the `tradequery` function so that it selects trade information for a single stock across multiple days for the given time range and trade conditions.\n",
    "\n",
    "Given a start date, end date, start time, end time, symbol and string of desired trade conditions, return a table with all the columns from the `trade` table."
   ]
  },
  {
   "cell_type": "code",
   "execution_count": 3,
   "metadata": {
    "collapsed": true,
    "deletable": false,
    "nbgrader": {
     "checksum": "83d6781ec1326ea978d23e74af7f7986",
     "grade": false,
     "grade_id": "tradequery",
     "locked": false,
     "schema_version": 1,
     "solution": true
    }
   },
   "outputs": [],
   "source": [
    "/ (s)tart (d)ate, (e)nd (d)ate, (s)tart (t)ime, (e)nd (t)ime, (s)ym, trade (c)ondition codes\n",
    "tradequery:{[sd;ed;st;et;s;c]\n",
    "    / YOUR CODE HERE\n",
    "    t:select from trade where date within (sd;ed), time within (st,et), sym=s, cond in c;\n",
    "    t}"
   ]
  },
  {
   "cell_type": "code",
   "execution_count": 4,
   "metadata": {},
   "outputs": [
    {
     "data": {
      "text/plain": [
       "date       sym time                 price size stop cond ex\n",
       "-----------------------------------------------------------\n",
       "2018.09.04 BAC 0D09:30:08.467771000 30.9  2241 0         N \n",
       "2018.09.04 BAC 0D09:30:08.468571000 30.89 300  0         N \n",
       "2018.09.04 BAC 0D09:30:08.468765000 30.88 600  0         N \n",
       "2018.09.04 BAC 0D09:30:08.471035000 30.9  400  0         P \n",
       "2018.09.04 BAC 0D09:30:08.471071000 30.9  1000 0         N \n",
       "..\n"
      ]
     },
     "execution_count": 4,
     "metadata": {},
     "output_type": "execute_result"
    }
   ],
   "source": [
    "/ pass function to database for execution\n",
    "h (tradequery;2018.09.04;2018.09.04;09:30;09:35;`BAC;\" \")"
   ]
  },
  {
   "cell_type": "code",
   "execution_count": 5,
   "metadata": {
    "deletable": false,
    "editable": false,
    "nbgrader": {
     "checksum": "cd016894db5c5ce0a1f9a3c86f84e6c1",
     "grade": true,
     "grade_id": "correct_tradequery",
     "locked": true,
     "points": 1,
     "schema_version": 1,
     "solution": false
    }
   },
   "outputs": [],
   "source": [
    "rnd:{x*\"j\"$y%x}\n",
    "assert:{if[not x~y;'`$\"expecting '\",(-3!x),\"' but found '\",(-3!y),\"'\"]}\n",
    "/ confirm all columns are included\n",
    "assert[`date`sym`time`price`size`stop`cond`ex] cols h (tradequery;2018.09.01;2018.09.01;09:30;16:00;`BAC;\"O\")\n",
    "/ confirm query only selects specified dates\n",
    "assert[2] count exec distinct date from h (tradequery;2018.09.04;2018.09.05;09:30;16:00;`BAC;\"O\")\n",
    "/ confirm only requested sym has been returned\n",
    "assert[1#`BAC] exec distinct sym from h (tradequery;2018.09.04;2018.09.04;09:30;16:00;`BAC;\"O\")\n",
    "assert[1#`TSLA] exec distinct sym from h (tradequery;2018.09.04;2018.09.04;09:30;16:00;`TSLA;\"O\")\n",
    "/ confirm only data within the expected time range is returned\n",
    "assert[1b] all within[;09:30 16:00]exec time from h (tradequery;2018.09.04;2018.09.04;09:30;16:00;`BAC;\"O\")\n",
    "assert[1b] all within[;09:30 12:00]exec time from h (tradequery;2018.09.04;2018.09.04;09:30;12:00;`BAC;\"O\")\n",
    "/ confirm only selected condition codes have been returned\n",
    "assert[1#\"O\"] exec distinct cond from h (tradequery;2018.09.04;2018.09.04;09:30;16:00;`BAC;\"O\")\n",
    "assert[\" O\"] exec asc distinct cond from h (tradequery;2018.09.04;2018.09.04;09:30;16:00;`BAC;\" O\")"
   ]
  },
  {
   "cell_type": "markdown",
   "metadata": {},
   "source": [
    "### Part B (1 points)\n",
    "\n",
    "Before computing a volatility profile, let's get some practice aggregating the data over multiple dates.\n",
    "\n",
    "Similar to the technique as HW2, we will compute the high and low prices within each minute of each date.\n",
    "\n",
    "Complete the `hl` function which creates two columns `h` and `l` with the max and min prices within each minute of each date.\n",
    "\n",
    "The resulting table should have four columns (date,minute, h and l) and 390 rows - one for each minute."
   ]
  },
  {
   "cell_type": "code",
   "execution_count": null,
   "metadata": {
    "deletable": false,
    "editable": false,
    "nbgrader": {
     "checksum": "b067fb159c3b45e6d728fb3d5f05461f",
     "grade": false,
     "grade_id": "cell-1311ecb58324aedb",
     "locked": true,
     "schema_version": 1,
     "solution": false
    }
   },
   "outputs": [],
   "source": [
    "sym:`BAC\n",
    "/ we will only use use data from the 1st through the 10th\n",
    "/ while this is not a lot of trade data, you will see in the last question\n",
    "/ that even loading this amount of data takes a long time and uses a few Gb of memory\n",
    "sd:2018.09.01;ed:2018.09.10\n",
    "st:09:30;et:16:00\n",
    "t:h (tradequery;sd;ed;st;et;sym;\" \")"
   ]
  },
  {
   "cell_type": "code",
   "execution_count": 7,
   "metadata": {
    "collapsed": true,
    "deletable": false,
    "nbgrader": {
     "checksum": "70621d4cf669bd87ce556cc220b03534",
     "grade": false,
     "grade_id": "hl",
     "locked": false,
     "schema_version": 1,
     "solution": true
    }
   },
   "outputs": [],
   "source": [
    "hl:{[t]\n",
    " / YOUR CODE HERE\n",
    " t: select h:max price, l:min price by date,time.minute from t;\n",
    " t}"
   ]
  },
  {
   "cell_type": "code",
   "execution_count": 8,
   "metadata": {
    "deletable": false,
    "editable": false,
    "nbgrader": {
     "checksum": "cf193285c750daa9ae31754ae687631c",
     "grade": false,
     "grade_id": "cell-d14f82f379bfcf5a",
     "locked": true,
     "schema_version": 1,
     "solution": false
    }
   },
   "outputs": [
    {
     "name": "stdout",
     "output_type": "stream",
     "text": [
      "date       minute| h      l     \n",
      "-----------------| -------------\n",
      "2018.09.04 09:30 | 30.99  30.87 \n",
      "2018.09.04 09:31 | 31.03  30.975\n",
      "2018.09.04 09:32 | 31     30.95 \n",
      "2018.09.04 09:33 | 31.025 30.98 \n",
      "2018.09.04 09:34 | 31.01  30.95 \n",
      "..\n"
     ]
    }
   ],
   "source": [
    "show highlow:hl t"
   ]
  },
  {
   "cell_type": "code",
   "execution_count": 9,
   "metadata": {
    "deletable": false,
    "editable": false,
    "nbgrader": {
     "checksum": "0b42ffad0bdd0d0b8c2bfc9dbb710fa0",
     "grade": true,
     "grade_id": "correct_hl",
     "locked": true,
     "points": 1,
     "schema_version": 1,
     "solution": false
    }
   },
   "outputs": [],
   "source": [
    "/ confirm all columns are included\n",
    "assert[`date`minute`h`l] cols highlow\n",
    "/ confirm correct schema\n",
    "assert[\"duee\"] value[meta highlow]`t\n",
    "/ confirm there are 390 minutes in a trading day\n",
    "assert[390] count distinct key[highlow]`minute\n",
    "/ confirm the high low calculations\n",
    "assert[`h`l!30.95 30.93] rnd[.01] avg each flip value highlow"
   ]
  },
  {
   "cell_type": "markdown",
   "metadata": {},
   "source": [
    "### Part C (1 points)\n",
    "\n",
    "With the practice behind us, we can move on to computing an intraday volatility profile. Complete the `volatilityprofile` function which:\n",
    "\n",
    "1. Summarizes the high and low prices within each minute of each date into columns `h` and `l`.\n",
    "2. Uses the `parkinson` measure and the `h` and `l` columns to add a variance column.\n",
    "3. Uses a moving average over window `w` to smooth the variance within each trading date.\n",
    "4. Averages each minute's variance across dates.\n",
    "5. Adds a `volatility` column with the annualized volatility.\n",
    "6. Returns a table with two columns (minute and volatility) and 390 rows - one for each minute.\n",
    "\n",
    "NOTE: You may assume the dataset will only be for a single symbol."
   ]
  },
  {
   "cell_type": "code",
   "execution_count": 10,
   "metadata": {
    "collapsed": true,
    "deletable": false,
    "nbgrader": {
     "checksum": "9a2b5416109f33355767a5298e48117c",
     "grade": false,
     "grade_id": "volatilityprofile",
     "locked": false,
     "schema_version": 1,
     "solution": true
    }
   },
   "outputs": [],
   "source": [
    "parkinson:{[h;l](1f%4f*log 2f)*r*r:log h%l}\n",
    "/ given a table t (which is expected to have the columns `date`time`price)\n",
    "/ generate a minutely volatility profile with smoothing (w)indow\n",
    "volatilityprofile:{[w;t]\n",
    " / YOUR CODE HERE\n",
    " t:update variance:w mavg parkinson[h;l] by date from hl t;\n",
    " t:select volatility: sqrt 252*6.5*60*avg variance by minute from t;\n",
    " t}"
   ]
  },
  {
   "cell_type": "code",
   "execution_count": 11,
   "metadata": {
    "deletable": false,
    "editable": false,
    "nbgrader": {
     "checksum": "3d13a1fedd5b98aa8a20a0ade4d6150d",
     "grade": false,
     "grade_id": "cell-f5345998c5bd38f1",
     "locked": true,
     "schema_version": 1,
     "solution": false
    }
   },
   "outputs": [
    {
     "name": "stdout",
     "output_type": "stream",
     "text": [
      "minute| volatility\n",
      "------| ----------\n",
      "09:30 | 0.6416767 \n",
      "09:31 | 0.5089212 \n",
      "09:32 | 0.5114596 \n",
      "09:33 | 0.4675085 \n",
      "09:34 | 0.444331  \n",
      "..\n"
     ]
    }
   ],
   "source": [
    "tab2df:{r:.p.import[`pandas; `:DataFrame; x][@; cols x];$[count k:keys x; r[`:set_index]k; r]}\n",
    "/ build a volatility profile\n",
    "show vp:volatilityprofile[5] t\n",
    ".p.set[`vp] tab2df vp"
   ]
  },
  {
   "cell_type": "code",
   "execution_count": 12,
   "metadata": {
    "deletable": false,
    "editable": false,
    "nbgrader": {
     "checksum": "93ae5e450fac669de443045dc7f16b09",
     "grade": true,
     "grade_id": "correct_volatilityprofile",
     "locked": true,
     "points": 1,
     "schema_version": 1,
     "solution": false
    }
   },
   "outputs": [],
   "source": [
    "/ confirm all columns are included\n",
    "assert[`minute`volatility] cols vp\n",
    "/ confirm the table schema is correct\n",
    "assert[\"uf\"] value[meta vp]`t\n",
    "/ confirm there are 390 minutes in a trading day\n",
    "assert[390] count distinct key[vp]`minute\n",
    "/ confirm the computed volume profile calculations\n",
    "assert[0.1294] rnd[1e-4] avg value[vp]`volatility"
   ]
  },
  {
   "cell_type": "code",
   "execution_count": 13,
   "metadata": {},
   "outputs": [
    {
     "name": "stdout",
     "output_type": "stream",
     "text": [
      "\"p)import numpy as np\"\n",
      "\"p)import pandas as pd\"\n",
      "\"p)import matplotlib.pyplot as plt\"\n",
      "\"p)vp.index = pd.to_timedelta(vp.index,unit='m')\"\n",
      "\"p)vp.plot(title='volatility profile',figsize=(15,5))\"\n",
      "\"p)plt.show()\"\n"
     ]
    },
    {
     "data": {
      "image/png": "[encoded data removed]",
      "text/plain": [
       "<matplotlib.figure.Figure at 0x1223fa0b8>"
      ]
     },
     "metadata": {},
     "output_type": "display_data"
    }
   ],
   "source": [
    "/%python\n",
    "import numpy as np\n",
    "import pandas as pd\n",
    "import matplotlib.pyplot as plt\n",
    "vp.index = pd.to_timedelta(vp.index,unit='m')\n",
    "vp.plot(title='volatility profile',figsize=(15,5))\n",
    "plt.show()"
   ]
  },
  {
   "cell_type": "markdown",
   "metadata": {},
   "source": [
    "### Part D (1 points)\n",
    "\n",
    "Using the trading data complete the function `volumeprofile` which:\n",
    "\n",
    "1. Aggregates the volume (size column) within each minute of each date.\n",
    "2. Uses a moving average over window `w` to smooth the volume within each trading date.\n",
    "3. To make the values comparable across stocks and days with corporate actions, convert the volumes into percentages of the total daily volume: ie, divide each minutes volume by the total volume for that date.\n",
    "4. Averages each minute's percentages across dates.\n",
    "5. Returns a table with two columns (minute and percent) and 390 rows - one for each minute.\n",
    "\n",
    "NOTE: You may assume the dataset will only be for a single symbol."
   ]
  },
  {
   "cell_type": "code",
   "execution_count": 81,
   "metadata": {
    "collapsed": true,
    "deletable": false,
    "nbgrader": {
     "checksum": "47e1f051f65d74f36ad513a9eefa7031",
     "grade": false,
     "grade_id": "volumeprofile",
     "locked": false,
     "schema_version": 1,
     "solution": true
    }
   },
   "outputs": [],
   "source": [
    "/ given a table t (which is expected to have the columns `date`time`size)\n",
    "/ generate a minutely volume profile with smoothing (w)indow\n",
    "volumeprofile:{[w;t]\n",
    " / YOUR CODE HERE\n",
    " t:select volume:sum size by date, time.minute from t;\n",
    " t:update volume: w mavg volume by date from t;\n",
    " t:update dv:sum volume by date from t;\n",
    " t:select percent:avg volume%dv by minute from t;\n",
    " t}"
   ]
  },
  {
   "cell_type": "code",
   "execution_count": 72,
   "metadata": {
    "deletable": false,
    "editable": false,
    "nbgrader": {
     "checksum": "f91833265f12e0c8f24f1dc62b99d047",
     "grade": false,
     "grade_id": "cell-549a90acbe425401",
     "locked": true,
     "schema_version": 1,
     "solution": false
    }
   },
   "outputs": [
    {
     "name": "stdout",
     "output_type": "stream",
     "text": [
      "date       minute| volume dv      \n",
      "-----------------| ---------------\n",
      "2018.09.04 09:30 | 203449 27117619\n",
      "2018.09.04 09:31 | 367622 27117619\n",
      "2018.09.04 09:32 | 309632 27117619\n",
      "2018.09.04 09:33 | 232497 27117619\n",
      "2018.09.04 09:34 | 179526 27117619\n",
      "..\n"
     ]
    }
   ],
   "source": [
    "/ build a volume profile\n",
    ".p.set[`v] tab2df v:volumeprofile[5] t\n",
    "show v"
   ]
  },
  {
   "cell_type": "code",
   "execution_count": 83,
   "metadata": {
    "deletable": false,
    "editable": false,
    "nbgrader": {
     "checksum": "5b8e0a248a368cece7a64db86df895ee",
     "grade": true,
     "grade_id": "correct_volumeprofile",
     "locked": true,
     "points": 1,
     "schema_version": 1,
     "solution": false
    }
   },
   "outputs": [],
   "source": [
    "/ confirm all columns are included\n",
    "assert[`minute`percent] cols v\n",
    "/ confirm the table schema is correct\n",
    "assert[\"uf\"] value[meta v]`t\n",
    "/ confirm there are 390 minutes in a day\n",
    "assert[390] count distinct key[v]`minute\n",
    "/ confirm the computed volume profile calculations\n",
    "assert[1f] rnd[.01] sum value[v]`percent"
   ]
  },
  {
   "cell_type": "code",
   "execution_count": 84,
   "metadata": {},
   "outputs": [
    {
     "name": "stdout",
     "output_type": "stream",
     "text": [
      "\"p)import numpy as np\"\n",
      "\"p)import pandas as pd\"\n",
      "\"p)import matplotlib.pyplot as plt\"\n",
      "\"p)v.index = pd.to_timedelta(v.index,unit='m')\"\n",
      "\"p)v.plot(title='volume profile',figsize=(15,5))\"\n",
      "\"p)plt.show()\"\n"
     ]
    },
    {
     "data": {
      "image/png": "[encoded data removed]",
      "text/plain": [
       "<matplotlib.figure.Figure at 0x1cc075128>"
      ]
     },
     "metadata": {},
     "output_type": "display_data"
    }
   ],
   "source": [
    "/%python\n",
    "import numpy as np\n",
    "import pandas as pd\n",
    "import matplotlib.pyplot as plt\n",
    "v.index = pd.to_timedelta(v.index,unit='m')\n",
    "v.plot(title='volume profile',figsize=(15,5))\n",
    "plt.show()"
   ]
  },
  {
   "cell_type": "markdown",
   "metadata": {},
   "source": [
    "### Part E (1 points)\n",
    "\n",
    "Again, using the trade data, we can compute the implicit spread with Roll's formula.  A variant of Roll's formula has been provided that computes a percentage spread so that the values can be compared across securities and days with corporate actions.\n",
    "\n",
    "Complete the `rspreadprofile` function which:\n",
    "1. Uses Roll's percent spread formula to compute the implicit percent spread within each minute of each date.\n",
    "2. Uses a moving average over window `w` to smooth the spread within each trading date.\n",
    "3. Averages each minute's spread across dates.\n",
    "4. Returns a table with two columns (minute and spread) and 390 rows - one for each minute.\n",
    "\n",
    "NOTE: You may assume the dataset will only be for a single symbol."
   ]
  },
  {
   "cell_type": "code",
   "execution_count": 18,
   "metadata": {
    "collapsed": true,
    "deletable": false,
    "nbgrader": {
     "checksum": "e99b96cddebb6f48fe25dece5ce9dfee",
     "grade": false,
     "grade_id": "rspreadprofile",
     "locked": false,
     "schema_version": 1,
     "solution": true
    }
   },
   "outputs": [],
   "source": [
    "/ computes the roll implicit spread as a percentage of the trade price\n",
    "rollpct:{200f*sqrt neg x scov prev x:-1f+x%prev x}\n",
    "/ given a table t (which is expected to have the columns `date`time`price)\n",
    "/ generate a minutely spread profile with smoothing (w)indow\n",
    "rspreadprofile:{[w;t]\n",
    " / YOUR CODE HERE\n",
    " t: select spread:rollpct price by date, time.minute from t;\n",
    " t: update spread:w mavg spread by date from t;\n",
    " t: select spread:avg spread by minute from t;\n",
    " t}"
   ]
  },
  {
   "cell_type": "code",
   "execution_count": 19,
   "metadata": {
    "deletable": false,
    "editable": false,
    "nbgrader": {
     "checksum": "932851997f575f5cf4d267b6d782d6bd",
     "grade": false,
     "grade_id": "cell-40f22c117043a3bc",
     "locked": true,
     "schema_version": 1,
     "solution": false
    }
   },
   "outputs": [
    {
     "name": "stdout",
     "output_type": "stream",
     "text": [
      "minute| spread    \n",
      "------| ----------\n",
      "09:30 | 0.01752109\n",
      "09:31 | 0.01480374\n",
      "09:32 | 0.01348129\n",
      "09:33 | 0.01309192\n",
      "09:34 | 0.01283061\n",
      "..\n"
     ]
    }
   ],
   "source": [
    "/ build a roll spread profile\n",
    ".p.set[`rp] tab2df rp:rspreadprofile[5] t\n",
    "show rp"
   ]
  },
  {
   "cell_type": "code",
   "execution_count": 20,
   "metadata": {
    "deletable": false,
    "editable": false,
    "nbgrader": {
     "checksum": "88e3275cb87772268f3fb73d64bf296e",
     "grade": true,
     "grade_id": "correct_rspreadprofile",
     "locked": true,
     "points": 1,
     "schema_version": 1,
     "solution": false
    }
   },
   "outputs": [],
   "source": [
    "/ confirm all columns are included\n",
    "assert[`minute`spread] cols rp\n",
    "/ confirm the table schema is correct\n",
    "assert[\"uf\"] value[meta rp]`t\n",
    "/ confirm there are 390  minutes in a day\n",
    "assert[390] count distinct key[rp]`minute\n",
    "/ confirm the computed spread profile calculations\n",
    "assert[0.01052] rnd[1e-6] avg value[rp]`spread"
   ]
  },
  {
   "cell_type": "code",
   "execution_count": 21,
   "metadata": {},
   "outputs": [
    {
     "name": "stdout",
     "output_type": "stream",
     "text": [
      "\"p)rp.index = pd.to_timedelta(rp.index,unit='m')\"\n",
      "\"p)rp.plot(title='roll percent spread profile',figsize=(15,5))\"\n",
      "\"p)plt.show()\"\n"
     ]
    },
    {
     "data": {
      "image/png": "[encoded data removed]",
      "text/plain": [
       "<matplotlib.figure.Figure at 0x125811400>"
      ]
     },
     "metadata": {},
     "output_type": "display_data"
    }
   ],
   "source": [
    "/%python\n",
    "rp.index = pd.to_timedelta(rp.index,unit='m')\n",
    "rp.plot(title='roll percent spread profile',figsize=(15,5))\n",
    "plt.show()"
   ]
  },
  {
   "cell_type": "markdown",
   "metadata": {},
   "source": [
    "### Part F (1 points)\n",
    "\n",
    "Roll's spread assumes the distribution of price changes are stationary.  This would indicate that using daily data should generate a similar spread calculation as our minutely calculation. Using the `daily` table, we can generate a spread calculation for the month of September.\n",
    "\n",
    "Complete the `dailyquery` function so that it selects daily information for a list of stocks for the given date range.\n",
    "\n",
    "Given a start date, end date and list of symbols, return a table with the date, sym and close columns.\n",
    "\n",
    "Hint: use the `in` operator to filter the table for multiple symbols"
   ]
  },
  {
   "cell_type": "code",
   "execution_count": 22,
   "metadata": {
    "collapsed": true,
    "deletable": false,
    "nbgrader": {
     "checksum": "5d892b39a464d0a464b49f91042e41af",
     "grade": false,
     "grade_id": "dailyquery",
     "locked": false,
     "schema_version": 1,
     "solution": true
    }
   },
   "outputs": [],
   "source": [
    "/ (s)tart (d)ate, (e)nd (d)ate, (s)yms\n",
    "dailyquery:{[sd;ed;s]\n",
    " / YOUR CODE HERE\n",
    " t:select from daily where date within (sd;ed), sym in s;\n",
    " t}"
   ]
  },
  {
   "cell_type": "code",
   "execution_count": 23,
   "metadata": {},
   "outputs": [
    {
     "data": {
      "text/plain": [
       "date       sym open  high  low   close price        size    \n",
       "------------------------------------------------------------\n",
       "2018.09.04 BAC 31    31.18 30.77 31.14 1.486993e+09 47887170\n",
       "2018.09.04 MS  48.95 48.95 48.18 48.65 4.775063e+08 9826528 \n",
       "2018.09.05 BAC 31.1  31.24 30.97 31.11 1.697349e+09 54551263\n",
       "2018.09.05 MS  48.6  49.05 48.5  48.79 3.251869e+08 6672373 \n",
       "2018.09.06 BAC 30.99 31.24 30.73 30.8  1.41743e+09  45895886\n",
       "..\n"
      ]
     },
     "execution_count": 23,
     "metadata": {},
     "output_type": "execute_result"
    }
   ],
   "source": [
    "/ pass function to database for execution\n",
    "h (dailyquery;2018.09.04;2018.09.30;`BAC`MS)"
   ]
  },
  {
   "cell_type": "code",
   "execution_count": 24,
   "metadata": {
    "collapsed": true,
    "deletable": false,
    "editable": false,
    "nbgrader": {
     "checksum": "0ba27bf28a86b1ace7912e8b0ef47d99",
     "grade": true,
     "grade_id": "correct_dailyquery",
     "locked": true,
     "points": 1,
     "schema_version": 1,
     "solution": false
    }
   },
   "outputs": [],
   "source": [
    "/ confirm all columns are included\n",
    "assert[1b] all `date`close in cols h (dailyquery;2018.09.04;2018.09.04;`BAC)\n",
    "/ confirm query only selects specified dates\n",
    "assert[2018.09.04 2018.09.25] (min;max)@\\:exec date from h (dailyquery;2018.09.04;2018.09.25;`BAC)\n",
    "assert[2018.09.12 2018.09.14] (min;max)@\\:exec date from h (dailyquery;2018.09.12;2018.09.15;`BAC)\n",
    "/ confirm only requested syms have been returned\n",
    "assert[1#`BAC] exec distinct sym from h (dailyquery;2018.09.04;2018.09.25;`BAC)\n",
    "assert[`GOOG`TSLA] exec distinct sym from h (dailyquery;2018.09.04;2018.09.25;`TSLA`GOOG)"
   ]
  },
  {
   "cell_type": "markdown",
   "metadata": {},
   "source": [
    "### Part G (1 points)\n",
    "\n",
    "We can now write a function to compute Roll's implicit percent spread for each sym over the dates in the table.\n",
    "\n",
    "The function should return a table with two columns (sym and spread).\n",
    "\n",
    "Complete the `symroll` function so that it computes Roll's implicit percent spread for each sym over all dates in the provided (t)able.\n",
    "\n",
    "If written correctly, you will notice that BAC produces a null spread.  What went wrong with the calculation?  What can be done to fix this problem?"
   ]
  },
  {
   "cell_type": "code",
   "execution_count": 25,
   "metadata": {
    "collapsed": true,
    "deletable": false,
    "nbgrader": {
     "checksum": "8661b5f04404253cf7a77007bf953fc6",
     "grade": false,
     "grade_id": "symroll",
     "locked": false,
     "schema_version": 1,
     "solution": true
    }
   },
   "outputs": [],
   "source": [
    "/ (t)able with `close and `sym columns\n",
    "symroll:{[t]\n",
    " / YOUR CODE HERE\n",
    " t: select spread:rollpct close by sym from t;\n",
    " t}"
   ]
  },
  {
   "cell_type": "code",
   "execution_count": 26,
   "metadata": {
    "deletable": false,
    "editable": false,
    "nbgrader": {
     "checksum": "b9ac1dde34e186dc029d83004907916d",
     "grade": false,
     "grade_id": "cell-49ca7bf8bb40941f",
     "locked": true,
     "schema_version": 1,
     "solution": false
    }
   },
   "outputs": [
    {
     "name": "stdout",
     "output_type": "stream",
     "text": [
      "sym | spread  \n",
      "----| --------\n",
      "BAC |         \n",
      "GOOG| 0.930028\n",
      "TSLA| 5.094085\n"
     ]
    }
   ],
   "source": [
    "show sprd:symroll h (dailyquery;2018.09.04;2018.09.30;`BAC`TSLA`GOOG)"
   ]
  },
  {
   "cell_type": "code",
   "execution_count": 27,
   "metadata": {
    "deletable": false,
    "editable": false,
    "nbgrader": {
     "checksum": "bd2475e4a93e066e18a33f4ca1ec014d",
     "grade": true,
     "grade_id": "correct_symroll",
     "locked": true,
     "points": 1,
     "schema_version": 1,
     "solution": false
    }
   },
   "outputs": [],
   "source": [
    "/ confirm all columns are included\n",
    "assert[1b] all `sym`spread in cols sprd\n",
    "/ confirm the table schema is correct\n",
    "assert[\"sf\"] value[meta sprd]`t\n",
    "/ confirm the numbers are accurate\n",
    "assert[3.01] rnd[.01] avg exec spread from sprd\n",
    "/ confirm `BAC has a null spread\n",
    "assert[0n] sprd[`BAC;`spread]"
   ]
  },
  {
   "cell_type": "code",
   "execution_count": 28,
   "metadata": {},
   "outputs": [
    {
     "data": {
      "text/plain": [
       "2.750102e-05\n"
      ]
     },
     "execution_count": 28,
     "metadata": {},
     "output_type": "execute_result"
    }
   ],
   "source": [
    "v:h (dailyquery;2018.09.04;2018.09.30;`BAC`TSLA`GOOG)\n",
    "v:select from v where sym=`BAC\n",
    "x scov prev x:-1f+x%prev x:v[`close]"
   ]
  },
  {
   "cell_type": "markdown",
   "metadata": {},
   "source": [
    "- The results above suggests that BAC produces a null spread due to a positive serial covariance of price changes of `BAC`.\n",
    "- This is one disadvantage of Roll's formula, so probably we want to look at some alternative measures/estimators of the spread."
   ]
  },
  {
   "cell_type": "markdown",
   "metadata": {},
   "source": [
    "### Part H (1 points)\n",
    "\n",
    "We now introduce the quote sizes into our analysis.\n",
    "\n",
    "Complete the `nbboquery` function so that it selects nbbo information for a single stock across multiple days.\n",
    "\n",
    "Given a start date, end date, start time, end time and symbol, return a table with all of the columns from the `quote` table."
   ]
  },
  {
   "cell_type": "code",
   "execution_count": 40,
   "metadata": {
    "collapsed": true,
    "deletable": false,
    "nbgrader": {
     "checksum": "ee8cd279a41b8245b2079de448e87931",
     "grade": false,
     "grade_id": "nbboquery",
     "locked": false,
     "schema_version": 1,
     "solution": true
    }
   },
   "outputs": [],
   "source": [
    "/ (s)tart (d)ate, (e)nd (d)ate, (s)tart (t)ime;(e)nd (t)ime, (s)ym\n",
    "nbboquery:{[sd;ed;st;et;s]\n",
    " / YOUR CODE HERE\n",
    " t:select from nbbo where sym=s, date within (sd;ed), time within (st;et);\n",
    " t}"
   ]
  },
  {
   "cell_type": "code",
   "execution_count": 41,
   "metadata": {},
   "outputs": [
    {
     "data": {
      "text/plain": [
       "date       sym time                 bid   bsize ask  asize\n",
       "----------------------------------------------------------\n",
       "2018.09.04 BAC 0D09:30:00.123583000 30.85 78    30.9 32   \n",
       "2018.09.04 BAC 0D09:30:00.160396000 30.85 78    30.9 26   \n",
       "2018.09.04 BAC 0D09:30:00.160405000 30.85 78    30.9 20   \n",
       "2018.09.04 BAC 0D09:30:00.160460000 30.85 78    30.9 14   \n",
       "2018.09.04 BAC 0D09:30:00.160516000 30.85 78    30.9 8    \n",
       "..\n"
      ]
     },
     "execution_count": 41,
     "metadata": {},
     "output_type": "execute_result"
    }
   ],
   "source": [
    "/ pass function to database for execution\n",
    "h (nbboquery;2018.09.04;2018.09.04;09:30;09:35;`BAC)"
   ]
  },
  {
   "cell_type": "code",
   "execution_count": 42,
   "metadata": {
    "deletable": false,
    "editable": false,
    "nbgrader": {
     "checksum": "06d9b9d130d5cb264c6dfdea7de3a21a",
     "grade": true,
     "grade_id": "correct_nbboquery",
     "locked": true,
     "points": 1,
     "schema_version": 1,
     "solution": false
    }
   },
   "outputs": [],
   "source": [
    "/ confirm all columns are included\n",
    "assert[`date`sym`time`bid`bsize`ask`asize] cols h (nbboquery;2018.09.01;2018.09.01;09:30;09:35;`BAC)\n",
    "/ confirm query only selects specified dates\n",
    "assert[2] count exec distinct date from h (nbboquery;2018.09.04;2018.09.05;09:30;09:35;`BAC)\n",
    "/ confirm only requested sym has been returned\n",
    "assert[1#`BAC] exec distinct sym from h (nbboquery;2018.09.04;2018.09.04;09:30;09:35;`BAC)\n",
    "assert[1#`TSLA] exec distinct sym from h (nbboquery;2018.04.01;2018.09.04;09:30;09:35;`TSLA)\n",
    "/ confirm only data within the expected time range is returned\n",
    "assert[1b] all within[;09:30 09:35]exec time from h (nbboquery;2018.09.04;2018.09.04;09:30;09:35;`BAC)\n",
    "assert[1b] all within[;09:30 09:40]exec time from h (nbboquery;2018.09.04;2018.09.04;09:30;09:40;`BAC)"
   ]
  },
  {
   "cell_type": "markdown",
   "metadata": {},
   "source": [
    "### Part I (1 points)\n",
    "\n",
    "Using the nbbo data, we would like to see how the average quote size changes over the course of the trading day.\n",
    "\n",
    "Complete the `quoteprofile` function which:\n",
    "\n",
    "1. Adds a duration column which computes the time difference between the quote and the previous quote within each date.\n",
    "2. Computes the duration weighted average `bid` and `ask` notional (again, for comparability across stocks and dates with corporate actions) within each minute of each date\n",
    "3. Uses a moving average over window `w` to smooth the quoted notionals (both `bid` and `ask`) within each trading date.\n",
    "4. Averages each minute's spread across dates.\n",
    "5. Returns a table with three columns (minute, bid and ask) and 390 rows - one for each minute.\n",
    "\n",
    "NOTE: You may assume the dataset will only be for a single symbol.\n",
    "\n",
    "NOTE: Since you will be using the previous quote for each duration, the first quote in each minute will not be available. "
   ]
  },
  {
   "cell_type": "code",
   "execution_count": 43,
   "metadata": {
    "collapsed": true,
    "deletable": false,
    "editable": false,
    "nbgrader": {
     "checksum": "2273652a4939690adff80022ec13c92a",
     "grade": false,
     "grade_id": "cell-92cd0472b5c3855a",
     "locked": true,
     "schema_version": 1,
     "solution": false
    }
   },
   "outputs": [],
   "source": [
    "/ pass function to database for execution\n",
    "n:h (nbboquery;sd;ed;st;et;sym)"
   ]
  },
  {
   "cell_type": "code",
   "execution_count": 33,
   "metadata": {},
   "outputs": [
    {
     "data": {
      "text/plain": [
       "date       sym time                 bid   bsize ask   asize\n",
       "-----------------------------------------------------------\n",
       "2018.09.04 BAC 0D09:30:00.005611000 30.43 48    31.3  48   \n",
       "2018.09.04 BAC 0D09:30:00.022188000 30.72 3     30.9  8    \n",
       "2018.09.04 BAC 0D09:30:00.123583000 30.85 42    30.9  8    \n",
       "2018.09.04 BAC 0D09:30:00.160396000 29.61 2     31.02 1    \n",
       "2018.09.04 BAC 0D09:30:00.160405000 29.61 1     32.14 1    \n",
       "..\n"
      ]
     },
     "execution_count": 33,
     "metadata": {},
     "output_type": "execute_result"
    }
   ],
   "source": [
    "n"
   ]
  },
  {
   "cell_type": "code",
   "execution_count": 52,
   "metadata": {
    "collapsed": true,
    "deletable": false,
    "nbgrader": {
     "checksum": "6bd744f315ec417fd7d9df35e67f656f",
     "grade": false,
     "grade_id": "quoteprofile",
     "locked": false,
     "schema_version": 1,
     "solution": true
    }
   },
   "outputs": [],
   "source": [
    "/ given a table n (which is expected to have the columns `date`time`asize`bsize)\n",
    "/ generate a minutely quote profile with smoothing (w)indow\n",
    "quoteprofile:{[w;n]\n",
    " / YOUR CODE HERE\n",
    " n: update duration: time-prev time by date from n;\n",
    " n: select ask: \"e\"$duration wavg prev ask*asize, bid: \"e\"$duration wavg prev bid*bsize by date, time.minute from n;\n",
    " n: update ask: w mavg ask, bid: w mavg bid by date from n;\n",
    " n: select avg bid, avg ask by minute from n;\n",
    " n}"
   ]
  },
  {
   "cell_type": "code",
   "execution_count": 53,
   "metadata": {
    "deletable": false,
    "editable": false,
    "nbgrader": {
     "checksum": "27577eabeb0ddc9aa3a95455c1dbb405",
     "grade": false,
     "grade_id": "cell-9a210af6938c1100",
     "locked": true,
     "schema_version": 1,
     "solution": false
    }
   },
   "outputs": [
    {
     "name": "stdout",
     "output_type": "stream",
     "text": [
      "minute| bid      ask     \n",
      "------| -----------------\n",
      "09:30 | 1482.557 1594.177\n",
      "09:31 | 2170.366 3056.734\n",
      "09:32 | 2637.959 4260.076\n",
      "09:33 | 2996.165 4394.345\n",
      "09:34 | 3339.459 4289.38 \n",
      "..\n"
     ]
    }
   ],
   "source": [
    "/ build a roll spread profile\n",
    "show qp:quoteprofile[5] n\n",
    ".p.set[`qp] tab2df qp"
   ]
  },
  {
   "cell_type": "code",
   "execution_count": 54,
   "metadata": {
    "deletable": false,
    "editable": false,
    "nbgrader": {
     "checksum": "fa9c43040e9d91e85087fcf4c69ca063",
     "grade": true,
     "grade_id": "correct_quoteprofile",
     "locked": true,
     "points": 1,
     "schema_version": 1,
     "solution": false
    }
   },
   "outputs": [],
   "source": [
    "/ confirm all columns are included\n",
    "assert[`minute`bid`ask] cols qp\n",
    "/ confirm there are 390 minutes in a day\n",
    "assert[390] count distinct key[qp]`minute\n",
    "/ confirm the computed quote profile calculations\n",
    "assert[26221.67 22573.03] rnd[.01] avg each value[qp]`ask`bid"
   ]
  },
  {
   "cell_type": "code",
   "execution_count": 55,
   "metadata": {},
   "outputs": [
    {
     "name": "stdout",
     "output_type": "stream",
     "text": [
      "\"p)qp.index = pd.to_timedelta(qp.index,unit='m')\"\n",
      "\"p)qp.plot(title='quote size profile',figsize=(15,5))\"\n",
      "\"p)plt.show()\"\n"
     ]
    },
    {
     "data": {
      "image/png": "[encoded data removed]",
      "text/plain": [
       "<matplotlib.figure.Figure at 0x1caca6ba8>"
      ]
     },
     "metadata": {},
     "output_type": "display_data"
    }
   ],
   "source": [
    "/%python\n",
    "qp.index = pd.to_timedelta(qp.index,unit='m')\n",
    "qp.plot(title='quote size profile',figsize=(15,5))\n",
    "plt.show()"
   ]
  },
  {
   "cell_type": "markdown",
   "metadata": {},
   "source": [
    "### Part J (1 points)\n",
    "\n",
    "Roll's implicit spread gave us a profile that would be expected from a market maker.  Let's see what the spread looks like from a market taker.  Using the nbbo data, we can see how the average quote spread changes over the course of the trading day.\n",
    "\n",
    "Complete the `nspreadprofile` function which:\n",
    "\n",
    "1. Adds a duration column which computes the time difference between the quote and the previous quote within each date.\n",
    "1. Computes the time weighted average percent spread (100*spread/mid) within each minute of each date\n",
    "2. Uses a moving average over window `w` to smooth the percent spread within each trading date.\n",
    "2. Averages each minute's percent spread across dates.\n",
    "\n",
    "The resulting table should have two columns (minute and spread) and 390 rows - one for each minute.\n",
    "\n",
    "NOTE: You may assume the dataset will only be for a single symbol.\n",
    "\n",
    "NOTE: Since you will be using the previous spread for each duration, the first spread in each minute will not be available. "
   ]
  },
  {
   "cell_type": "code",
   "execution_count": 67,
   "metadata": {
    "collapsed": true,
    "deletable": false,
    "nbgrader": {
     "checksum": "be2e106e3605039dd957609991b33897",
     "grade": false,
     "grade_id": "nspreadprofile",
     "locked": false,
     "schema_version": 1,
     "solution": true
    }
   },
   "outputs": [],
   "source": [
    "/ given a table n (which is expected to have the columns `date`time`asize`bsize)\n",
    "/ generate a minutely volume profile with smoothing (w)indow\n",
    "nspreadprofile:{[w;n]\n",
    " / YOUR CODE HERE\n",
    " n: update duration: time-prev time by date from n;\n",
    " n: select twasprd: \"e\"$duration wavg 200*(ask-bid)%(ask+bid) by date, time.minute from n;\n",
    " n: update twasprd: w mavg twasprd by date from n;\n",
    " n: select spread:avg twasprd by minute from n;\n",
    " n}"
   ]
  },
  {
   "cell_type": "code",
   "execution_count": 68,
   "metadata": {
    "deletable": false,
    "editable": false,
    "nbgrader": {
     "checksum": "c7d9c51f118066c4bb5c4ef71562a90a",
     "grade": false,
     "grade_id": "cell-40acfde847993416",
     "locked": true,
     "schema_version": 1,
     "solution": false
    }
   },
   "outputs": [
    {
     "name": "stdout",
     "output_type": "stream",
     "text": [
      "minute| spread    \n",
      "------| ----------\n",
      "09:30 | 0.05840586\n",
      "09:31 | 0.04550641\n",
      "09:32 | 0.04101866\n",
      "09:33 | 0.03881556\n",
      "09:34 | 0.03749226\n",
      "..\n"
     ]
    }
   ],
   "source": [
    "/ build a spread profile\n",
    "show nsp:nspreadprofile[5] n\n",
    ".p.set[`nsp] tab2df nsp"
   ]
  },
  {
   "cell_type": "code",
   "execution_count": 69,
   "metadata": {
    "deletable": false,
    "editable": false,
    "nbgrader": {
     "checksum": "61b10b35eae88f5ad57b4a9df514446f",
     "grade": true,
     "grade_id": "correct_nspreadprofile",
     "locked": true,
     "points": 1,
     "schema_version": 1,
     "solution": false
    }
   },
   "outputs": [],
   "source": [
    "/ confirm all columns are included\n",
    "assert[`minute`spread] cols nsp\n",
    "/ confirm the table schema is correct\n",
    "assert[\"uf\"] value[meta nsp]`t\n",
    "/ confirm there are 390 minutes in a day\n",
    "assert[390] count distinct key[nsp]`minute\n",
    "/ confrim the computed volume profile calculations\n",
    "assert[0.0324] rnd[1e-4] avg value[nsp]`spread"
   ]
  },
  {
   "cell_type": "code",
   "execution_count": 70,
   "metadata": {},
   "outputs": [
    {
     "name": "stdout",
     "output_type": "stream",
     "text": [
      "\"p)nsp.index = pd.to_timedelta(nsp.index,unit='m')\"\n",
      "\"p)nsp.plot(title='nbbo spread profile',figsize=(15,5))\"\n",
      "\"p)plt.show()\"\n"
     ]
    },
    {
     "data": {
      "image/png": "[encoded data removed]",
      "text/plain": [
       "<matplotlib.figure.Figure at 0x1ec854a90>"
      ]
     },
     "metadata": {},
     "output_type": "display_data"
    }
   ],
   "source": [
    "/%python\n",
    "nsp.index = pd.to_timedelta(nsp.index,unit='m')\n",
    "nsp.plot(title='nbbo spread profile',figsize=(15,5))\n",
    "plt.show()"
   ]
  }
 ],
 "metadata": {
  "kernelspec": {
   "display_name": "Q (kdb+)",
   "language": "q",
   "name": "qpk"
  },
  "language_info": {
   "file_extension": ".q",
   "mimetype": "text/x-q",
   "name": "q",
   "version": "3.6.0"
  }
 },
 "nbformat": 4,
 "nbformat_minor": 2
}
