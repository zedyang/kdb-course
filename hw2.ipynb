{
 "cells": [
  {
   "cell_type": "markdown",
   "metadata": {},
   "source": [
    "# MSCF 46982 Market Microstructure and Algorithmic Trading\n",
    "# Fall 2018 Mini 2\n",
    "\n",
    "Before you turn this problem in, make sure everything runs as expected. First, **restart the kernel** (in the menubar, select Kernel$\\rightarrow$Restart) and then **run all cells** (in the menubar, select Cell$\\rightarrow$Run All).\n",
    "\n",
    "Make sure you fill in any place that says `YOUR CODE HERE` or \"YOUR ANSWER HERE\", specify your name and that of your collaborator, and remove the `notimplemented` exception.\n",
    "\n"
   ]
  },
  {
   "cell_type": "markdown",
   "metadata": {},
   "source": [
    "---"
   ]
  },
  {
   "cell_type": "code",
   "execution_count": 1,
   "metadata": {
    "collapsed": true
   },
   "outputs": [],
   "source": [
    "NAME: \"Ze Yang\"\n",
    "COLLABORATOR: \"\""
   ]
  },
  {
   "cell_type": "markdown",
   "metadata": {},
   "source": [
    "## Analyzing trade data from a CSV\n",
    "Comma Separated Value (CSV) files are a popular means of data storage, but they lack the type precision of other formats (such as JSON or binary).  Kdb+ provides a simple and flexible interface to parsing text from CSV files into a table with proper types for each column. We can then use Kdb+'s `q-sql` syntax to perform data analysis."
   ]
  },
  {
   "cell_type": "markdown",
   "metadata": {},
   "source": [
    "### Part A (1 points)\n",
    "\n",
    "This question has been started for you by downloading sample trade data from [NASDAQ Data-on-Demand](http://www.nasdaqdod.com) into a variable `txt`.  Supply the correct arguments to the `0:` operator to load the \"Symbol\", \"Trades Timestamp\", \"Trades Quantity\" and \"Trades Price\" columns into a table `t` with data types: symbol, timestamp, integer, real."
   ]
  },
  {
   "cell_type": "code",
   "execution_count": 2,
   "metadata": {
    "deletable": false,
    "nbgrader": {
     "checksum": "91f91cda985ebd73633d77765d16012d",
     "grade": false,
     "grade_id": "parse",
     "locked": false,
     "schema_version": 1,
     "solution": true
    }
   },
   "outputs": [
    {
     "name": "stdout",
     "output_type": "stream",
     "text": [
      "Symbol Trades Timestamp              Trades Quantity Trades Price\n",
      "-----------------------------------------------------------------\n",
      "NDAQ   2011.06.15D09:30:00.050000000 6820            23.98       \n",
      "NDAQ   2011.06.15D09:30:00.053000000 6820            23.98       \n",
      "NDAQ   2011.06.15D09:30:00.377000000 500             23.96       \n",
      "NDAQ   2011.06.15D09:30:00.393000000 200             23.95       \n",
      "NDAQ   2011.06.15D09:30:03.493000000 211             23.94       \n",
      "..\n"
     ]
    }
   ],
   "source": [
    "\\c 10 100\n",
    "txt:.Q.hg \"http://www.nasdaqdod.com/Samples.aspx?SampleId=6\"\n",
    "/ YOUR CODE HERE\n",
    "t:(\"S  PIE\"; 1#\",\") 0:txt\n",
    "show t"
   ]
  },
  {
   "cell_type": "code",
   "execution_count": 3,
   "metadata": {
    "collapsed": true,
    "deletable": false,
    "editable": false,
    "nbgrader": {
     "checksum": "b7f1682fe51000cb2c3a705ce46b3c29",
     "grade": true,
     "grade_id": "correct_parse",
     "locked": false,
     "points": 1,
     "schema_version": 1,
     "solution": false
    }
   },
   "outputs": [],
   "source": [
    "rnd:{x*\"j\"$y%x}\n",
    "assert:{if[not x~y;'`$\"expecting '\",(-3!x),\"' but found '\",(-3!y),\"'\"]}\n",
    "/ confirm the table count is corret\n",
    "assert[1775] count t\n",
    "/ confirm the column types are correct\n",
    "assert[\"spie\"] value[meta t]`t\n",
    "/ confirm the Symbol column has data for `NDAQ`GOOG\n",
    "assert[`NDAQ`GOOG] distinct t`Symbol"
   ]
  },
  {
   "cell_type": "markdown",
   "metadata": {},
   "source": [
    "### Part B (1 points)\n",
    "\n",
    "The column names of this table have spaces - making them incompatible with `q-sql`.  The operator `.Q.id` removes these illegal characters,"
   ]
  },
  {
   "cell_type": "code",
   "execution_count": 4,
   "metadata": {},
   "outputs": [
    {
     "data": {
      "text/plain": [
       "`Symbol`TradesTimestamp`TradesQuantity`TradesPrice\n"
      ]
     },
     "execution_count": 4,
     "metadata": {},
     "output_type": "execute_result"
    }
   ],
   "source": [
    "cols .Q.id t"
   ]
  },
  {
   "cell_type": "markdown",
   "metadata": {},
   "source": [
    "but leaves names that are too verbose (at least for my taste).  This question asks you to use the `xcol` operator to rename the columns such that they can be queried with `q-sql`.\n",
    "\n",
    "Rename the columns to: sym, time, size, price"
   ]
  },
  {
   "cell_type": "code",
   "execution_count": 5,
   "metadata": {
    "collapsed": true,
    "deletable": false,
    "nbgrader": {
     "checksum": "301cf27e6b4bfa61a02c3004b9c8e89f",
     "grade": false,
     "grade_id": "xcol",
     "locked": false,
     "schema_version": 1,
     "solution": true
    }
   },
   "outputs": [],
   "source": [
    "/ YOUR CODE HERE\n",
    "t: `sym`time`size`price xcol t"
   ]
  },
  {
   "cell_type": "code",
   "execution_count": 6,
   "metadata": {
    "collapsed": true,
    "deletable": false,
    "editable": false,
    "nbgrader": {
     "checksum": "80db6a3f435914c53f969a049e446730",
     "grade": true,
     "grade_id": "correct_xcol",
     "locked": false,
     "points": 1,
     "schema_version": 1,
     "solution": false
    }
   },
   "outputs": [],
   "source": [
    "/ check that the columns are correct\n",
    "assert[`sym`time`size`price] cols t"
   ]
  },
  {
   "cell_type": "markdown",
   "metadata": {},
   "source": [
    "### Part C (1 points)\n",
    "\n",
    "Using the `where` clause with `q-sql`, complete the `filter` function to limit the dataset to only the list of symbols passed as function argument, and only those rows that have non null prices."
   ]
  },
  {
   "cell_type": "code",
   "execution_count": 7,
   "metadata": {
    "collapsed": true,
    "deletable": false,
    "nbgrader": {
     "checksum": "b4e6c63d450a8500a9f02e44f67e961f",
     "grade": false,
     "grade_id": "where",
     "locked": false,
     "schema_version": 1,
     "solution": true
    }
   },
   "outputs": [],
   "source": [
    "filter:{[s;t]\n",
    " / YOUR CODE HERE\n",
    " t: select from t where sym in s, not null price;\n",
    " t}"
   ]
  },
  {
   "cell_type": "code",
   "execution_count": 8,
   "metadata": {
    "collapsed": true,
    "deletable": false,
    "editable": false,
    "nbgrader": {
     "checksum": "2c7ff50fe176206a946887d59ac33ae1",
     "grade": true,
     "grade_id": "correct_where",
     "locked": false,
     "points": 1,
     "schema_version": 1,
     "solution": false
    }
   },
   "outputs": [],
   "source": [
    "/ check that the query returnes only the desired symbols\n",
    "assert[1#`GOOG] distinct filter[`GOOG;t]`sym\n",
    "assert[1#`NDAQ] distinct filter[`NDAQ;t]`sym\n",
    "/ check that the returned rows have the expected data\n",
    "assert[1033] count filter[`GOOG;t]\n",
    "assert[740] count filter[`NDAQ;t]"
   ]
  },
  {
   "cell_type": "markdown",
   "metadata": {},
   "source": [
    "### Part D (1 points)\n",
    "\n",
    "We are looking to generate a volatility profiles from this dataset.  The first step is to generate a table with the open, high, low, close values from each minute of the trading day. Complete the `ohlc` function to return these values for all the symbols in table `t`.  The resulting table should have a two column primary key (sym and minute) and four other columns (o, h, l, c).\n",
    "\n",
    "HINT: to compute the minute portion of a time value within `q-sql`, you can use `time.minute` syntax."
   ]
  },
  {
   "cell_type": "code",
   "execution_count": 9,
   "metadata": {
    "collapsed": true,
    "deletable": false,
    "nbgrader": {
     "checksum": "15a9307801cf9cfcff25b0e550d59b15",
     "grade": false,
     "grade_id": "by",
     "locked": false,
     "schema_version": 1,
     "solution": true
    }
   },
   "outputs": [],
   "source": [
    "ohlc:{[t]\n",
    " / YOUR CODE HERE\n",
    " t: select o:first price, h:max price, l:min price , c:last price by sym,time.minute from t;\n",
    " t}"
   ]
  },
  {
   "cell_type": "code",
   "execution_count": 10,
   "metadata": {
    "collapsed": true,
    "deletable": false,
    "editable": false,
    "nbgrader": {
     "checksum": "ef7e64ebff810db018d1699423cd2cba",
     "grade": true,
     "grade_id": "correct_by",
     "locked": false,
     "points": 1,
     "schema_version": 1,
     "solution": false
    }
   },
   "outputs": [],
   "source": [
    "/ check that the function returns the correct columns\n",
    "assert[`sym`minute`o`h`l`c] cols ohlc filter[`GOOG] t\n",
    "/ check that the table has the correct number of rows\n",
    "assert[60] count ohlc filter[`NDAQ] t\n",
    "/ check column types are correct\n",
    "assert[\"sueeee\"] value[meta ohlc filter[`GOOG] t]`t\n",
    "/ check that the data is correct\n",
    "assert[`o`h`l`c!506.8 507.02 506.58 506.81] rnd[.01] avg ohlc filter[`GOOG] t"
   ]
  },
  {
   "cell_type": "markdown",
   "metadata": {},
   "source": [
    "### Part E (1 points)\n",
    "\n",
    "The open, high, low and close columns are useful when computing the intraday volatility.  Though it doesn't account for jumps between periods, the Garman-Klass volatility measure is popular when you have open, high, low and close prices. \n",
    "\n",
    "$$\\sigma(n)_{gk}=\\sqrt{\\frac{1}{n}\\sum_{i=0}^n \\frac{1}{2}\\left(\\ln(\\frac{h_i}{l_i})\\right)^2-(2 \\ln(2)-1)\\left(\\ln(\\frac{c_i}{o_i})\\right)^2}$$\n",
    "\n",
    "Complete the `gk` function with a simplified implementation of the Garman-Klass measure that produces a variance (volatility squared) without averaging over observations.  For flexibility we will let the caller compute the averag (or moving average), annualize the values, and then take the square root.\n",
    "\n",
    "$$\\sigma_{gk}^2=\\frac{1}{2}\\left(\\ln(\\frac{h}{l})\\right)^2-(2 \\ln(2)-1)\\left(\\ln(\\frac{c}{o})\\right)^2$$\n"
   ]
  },
  {
   "cell_type": "code",
   "execution_count": 11,
   "metadata": {
    "collapsed": true,
    "deletable": false,
    "nbgrader": {
     "checksum": "d50dfe4c4917aa514e807e3c2e3076ba",
     "grade": false,
     "grade_id": "gk",
     "locked": false,
     "schema_version": 1,
     "solution": true
    }
   },
   "outputs": [],
   "source": [
    "/ garman-klass variance estimator\n",
    "gk:{[o;h;l;c]\n",
    " / YOUR CODE HERE\n",
    " v:((1f%2f)*r1*r1:log h%l)-(-1f+2f*log 2f)*r2*r2:log c%o;\n",
    " v}"
   ]
  },
  {
   "cell_type": "code",
   "execution_count": 12,
   "metadata": {
    "collapsed": true,
    "deletable": false,
    "editable": false,
    "nbgrader": {
     "checksum": "6570e76d485180638696cd437f366570",
     "grade": true,
     "grade_id": "correct_gk",
     "locked": false,
     "points": 1,
     "schema_version": 1,
     "solution": false
    }
   },
   "outputs": [],
   "source": [
    "/ check that the gk function produces the correct values\n",
    "assert[0n 1.7222 1.7222 1.1781] rnd[1e-4] gk . (first;max;min;last)@\\: 4 cut sums 100#01b"
   ]
  },
  {
   "cell_type": "markdown",
   "metadata": {},
   "source": [
    "### Part F (1 points)\n",
    "\n",
    "The open, high, low and close columns are useful when computing the intraday volatility.  Using `q-sql`, complete the `addvol` function to add a new column `volatility` to table `t`. The function should uses the open, high, low and close values along with the `gk` function to compute a variance values for each minute.  It should then use the `mavg` function to compute a moving average over window `w`.  Finally, it should convert the variance numbers to **volatility**. Make sure to annualize the numbers with 6.5 hours in a trading day and 252 trading days per year."
   ]
  },
  {
   "cell_type": "code",
   "execution_count": 13,
   "metadata": {
    "collapsed": true,
    "deletable": false,
    "nbgrader": {
     "checksum": "beeadc9d94f024ea95718f7c60967aec",
     "grade": false,
     "grade_id": "vol",
     "locked": false,
     "schema_version": 1,
     "solution": true
    }
   },
   "outputs": [],
   "source": [
    "addvol:{[w;t]\n",
    " / YOUR CODE HERE\n",
    " t:update volatility:sqrt 252*6.5*60*w mavg gk[o;h;l;c] by sym from t;\n",
    " t}"
   ]
  },
  {
   "cell_type": "code",
   "execution_count": 14,
   "metadata": {
    "deletable": false,
    "editable": false,
    "nbgrader": {
     "checksum": "1b6a1f45d43d2b703f4fa97a854075e9",
     "grade": true,
     "grade_id": "correct_vol",
     "locked": false,
     "points": 1,
     "schema_version": 1,
     "solution": false
    }
   },
   "outputs": [],
   "source": [
    "/ check that the table now has the volatility column\n",
    "assert[1b] `volatility in cols addvol[5] ohlc filter[`GOOG] t\n",
    "/ check that the volatility values are correct\n",
    "assert[`GOOG`NDAQ!0.1748 0.1316] rnd[1e-4] exec avg volatility by sym from addvol[5] ohlc filter[`NDAQ`GOOG] t"
   ]
  },
  {
   "cell_type": "markdown",
   "metadata": {},
   "source": [
    "### Part G (1 points)\n",
    "\n",
    "In combination with the `filter`, `ohlc` and the `addvol` functions, use the `pivot` function to generate a time series of GOOG and NDAQ's volatility (using a moving window of 5).  The result should be saved into a table `s` and have three columns: minute (the primary key), GOOG and NDAQ."
   ]
  },
  {
   "cell_type": "code",
   "execution_count": 15,
   "metadata": {
    "collapsed": true
   },
   "outputs": [],
   "source": [
    "/ create pivot (t)able with data from the last column\n",
    "/ pivot columns from the last key column\n",
    "/ and pivot keys as all but the last key column\n",
    "pivot:{[t]\n",
    " u:`$string asc distinct last f:flip key t;\n",
    " pf:{x#(`$string y)!z};\n",
    " p:?[t;();g!g:-1_ k;(pf;`u;last k:key f;last key flip value t)];\n",
    " p} "
   ]
  },
  {
   "cell_type": "code",
   "execution_count": 16,
   "metadata": {
    "deletable": false,
    "nbgrader": {
     "checksum": "2f21afad8450e5ec5a6b6e5226d16ed3",
     "grade": false,
     "grade_id": "pivot",
     "locked": false,
     "schema_version": 1,
     "solution": true
    }
   },
   "outputs": [
    {
     "name": "stdout",
     "output_type": "stream",
     "text": [
      "minute| GOOG      NDAQ     \n",
      "------| -------------------\n",
      "09:30 | 0.316194  0.599801 \n",
      "09:31 | 0.2770435 0.4241233\n",
      "09:32 | 0.323622  0.3500383\n",
      "09:33 | 0.294405  0.3039447\n",
      "09:34 | 0.3383625 0.3097547\n",
      "..\n"
     ]
    }
   ],
   "source": [
    "/ YOUR CODE HERE\n",
    "show s:pivot 2!select minute,sym,volatility from addvol[5] ohlc filter[`NDAQ`GOOG] t"
   ]
  },
  {
   "cell_type": "code",
   "execution_count": 17,
   "metadata": {
    "collapsed": true,
    "deletable": false,
    "editable": false,
    "nbgrader": {
     "checksum": "2c43c118b50786c8b93841d2ae8c358a",
     "grade": true,
     "grade_id": "correct_pivot",
     "locked": false,
     "points": 1,
     "schema_version": 1,
     "solution": false
    }
   },
   "outputs": [],
   "source": [
    "/ check that the table has the correct columns\n",
    "assert[`minute`GOOG`NDAQ] cols s\n",
    "/ check that the table has the right number of rows\n",
    "assert[60] count s\n",
    "/ check that the avg volatility \n",
    "assert[`GOOG`NDAQ!0.1748 0.1316] rnd[1e-4] avg s"
   ]
  },
  {
   "cell_type": "markdown",
   "metadata": {},
   "source": [
    "### Part H (1 points)\n",
    "\n",
    "Integrating Kdb+ with Jupyter Notebooks allows you to use the power of python's plotting tools.\n",
    "\n",
    "This problem requests that you to copy the table `s` from the q memory space into the python memory space and call it `s`."
   ]
  },
  {
   "cell_type": "code",
   "execution_count": 18,
   "metadata": {
    "collapsed": true,
    "deletable": false,
    "nbgrader": {
     "checksum": "1cf3e32b7a46f480bca6e2ad7a40e4f6",
     "grade": false,
     "grade_id": "dataframe",
     "locked": false,
     "schema_version": 1,
     "solution": true
    }
   },
   "outputs": [],
   "source": [
    "/ YOUR CODE HERE\n",
    "tab2df:{r:.p.import[`pandas;`:DataFrame.from_dict;flip 0!x][@;cols x];$[count k:keys x;r[`:set_index]k;r]}\n",
    ".p.set[`s] tab2df s"
   ]
  },
  {
   "cell_type": "code",
   "execution_count": 19,
   "metadata": {
    "deletable": false,
    "editable": false,
    "nbgrader": {
     "checksum": "957646d785781e91c205b10a321f90c0",
     "grade": true,
     "grade_id": "correct_dataframe",
     "locked": false,
     "points": 1,
     "schema_version": 1,
     "solution": false
    }
   },
   "outputs": [],
   "source": [
    "/ check that the python variable df now contains exactly the same data as the q variable s\n",
    "df2tab:{\n",
    " n:$[.p.isinstance[x`:index;.p.import[`pandas]`:RangeIndex]`;0;x[`:index.nlevels]`];\n",
    " t:n!flip $[n;x[`:reset_index][];x][`:to_dict;`list]`;\n",
    " t}\n",
    "assert[s] update \"u\"$minute from df2tab .p.get[`s]"
   ]
  },
  {
   "cell_type": "markdown",
   "metadata": {},
   "source": [
    "### Part I (1 points)\n",
    "\n",
    "This problem asks that you load the proper python libraries into the python namespace such that `numpy` can be referred to as `np`, `pandas` can be referred to as `pd` and `matplotlib.pyplot` can be referred to as `plt`."
   ]
  },
  {
   "cell_type": "code",
   "execution_count": 20,
   "metadata": {
    "deletable": false,
    "nbgrader": {
     "checksum": "d47c874828a267774b1c862b6d065314",
     "grade": false,
     "grade_id": "plot",
     "locked": false,
     "schema_version": 1,
     "solution": true
    }
   },
   "outputs": [
    {
     "name": "stdout",
     "output_type": "stream",
     "text": [
      "\"p)import numpy as np\"\n",
      "\"p)import pandas as pd\"\n",
      "\"p)import matplotlib.pyplot as plt\"\n"
     ]
    }
   ],
   "source": [
    "/%python\n",
    "import numpy as np\n",
    "import pandas as pd\n",
    "import matplotlib.pyplot as plt"
   ]
  },
  {
   "cell_type": "code",
   "execution_count": 21,
   "metadata": {
    "deletable": false,
    "editable": false,
    "nbgrader": {
     "checksum": "455d496c925c57073c313db1ab73b0da",
     "grade": true,
     "grade_id": "correct_plot",
     "locked": false,
     "points": 1,
     "schema_version": 1,
     "solution": false
    }
   },
   "outputs": [
    {
     "name": "stdout",
     "output_type": "stream",
     "text": [
      "\"p)# check that we can now plot s\"\n",
      "\"p)s.index = pd.to_timedelta(s.index,unit='m')\"\n",
      "\"p)s.plot(figsize=(15,5),title='google vs nasdaq intraday volatility')\"\n",
      "\"p)plt.show()\"\n"
     ]
    },
    {
     "data": {
      "image/png": "[encoded data removed]",
      "text/plain": [
       "<matplotlib.figure.Figure at 0x11b0720f0>"
      ]
     },
     "metadata": {},
     "output_type": "display_data"
    }
   ],
   "source": [
    "/%python\n",
    "# check that we can now plot s\n",
    "s.index = pd.to_timedelta(s.index,unit='m')\n",
    "s.plot(figsize=(15,5),title='google vs nasdaq intraday volatility')\n",
    "plt.show()"
   ]
  },
  {
   "cell_type": "markdown",
   "metadata": {},
   "source": [
    "### Part J (1 points)\n",
    "\n",
    "Pulling everything together, this question asks you summarize the notional traded by each stock in the data set in minutely buckets.  The term notional represents the traded value in units of dollars.  The `size` column is not comparable between `GOOG` and `NDAQ`, but the notional (size x price) is.  Sum each stock's total notional traded within each minute bucket, pivot the table and assign the result to the variable `v` in the python namespace."
   ]
  },
  {
   "cell_type": "code",
   "execution_count": 22,
   "metadata": {
    "deletable": false,
    "nbgrader": {
     "checksum": "cea606900b3e391d42a13b4e484e8235",
     "grade": false,
     "grade_id": "volume",
     "locked": false,
     "schema_version": 1,
     "solution": true
    }
   },
   "outputs": [
    {
     "name": "stdout",
     "output_type": "stream",
     "text": [
      "minute| GOOG       NDAQ  \n",
      "------| -----------------\n",
      "09:30 | 1.7394e+07 368231\n",
      "09:31 | 1411268    2390  \n",
      "09:32 | 2845642    7172  \n",
      "09:33 | 802662.4   11971 \n",
      "09:34 | 1632652    11996 \n",
      "..\n"
     ]
    }
   ],
   "source": [
    "/ YOUR CODE HERE\n",
    "doltrd1m:{[t] select notional: sum price*size by sym,time.minute from t}\n",
    "show v:pivot 2!select minute,sym,notional from doltrd1m filter[`NDAQ`GOOG] t\n",
    ".p.set[`v] tab2df v"
   ]
  },
  {
   "cell_type": "code",
   "execution_count": 23,
   "metadata": {
    "collapsed": true,
    "deletable": false,
    "editable": false,
    "nbgrader": {
     "checksum": "f45124446fa4cd2dff7d179b12658ef6",
     "grade": true,
     "grade_id": "correct_volume",
     "locked": true,
     "points": 1,
     "schema_version": 1,
     "solution": false
    }
   },
   "outputs": [],
   "source": [
    "/ confirm v has the desired columns\n",
    "assert[`minute`GOOG`NDAQ] cols df2tab .p.get[`v]\n",
    "/ confirm v has the desired row count\n",
    "assert[60] count df2tab .p.get[`v]\n",
    "/ confirm v has the correct data\n",
    "assert[`GOOG`NDAQ!1255041 43125] rnd[1] avg df2tab .p.get[`v]"
   ]
  },
  {
   "cell_type": "code",
   "execution_count": 24,
   "metadata": {},
   "outputs": [
    {
     "name": "stdout",
     "output_type": "stream",
     "text": [
      "\"p)# check that we can now plot v\"\n",
      "\"p)import pandas as pd\"\n",
      "\"p)v.index = pd.to_timedelta(v.index,unit='m')\"\n",
      "\"p)v.plot(figsize=(15,5),title='google vs nasdaq intraday volume')\"\n",
      "\"p)plt.show()\"\n"
     ]
    },
    {
     "data": {
      "image/png": "[encoded data removed]",
      "text/plain": [
       "<matplotlib.figure.Figure at 0x11e215b70>"
      ]
     },
     "metadata": {},
     "output_type": "display_data"
    }
   ],
   "source": [
    "/%python\n",
    "# check that we can now plot v\n",
    "import pandas as pd\n",
    "v.index = pd.to_timedelta(v.index,unit='m')\n",
    "v.plot(figsize=(15,5),title='google vs nasdaq intraday volume')\n",
    "plt.show()"
   ]
  }
 ],
 "metadata": {
  "kernelspec": {
   "display_name": "Q (kdb+)",
   "language": "q",
   "name": "qpk"
  },
  "language_info": {
   "file_extension": ".q",
   "mimetype": "text/x-q",
   "name": "q",
   "version": "3.6.0"
  }
 },
 "nbformat": 4,
 "nbformat_minor": 2
}
