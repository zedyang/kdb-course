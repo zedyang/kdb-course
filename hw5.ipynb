{
 "cells": [
  {
   "cell_type": "markdown",
   "metadata": {},
   "source": [
    "# MSCF 46982 Market Microstructure and Algorithmic Trading\n",
    "# Fall 2018 Mini 2\n",
    "\n",
    "Before you turn this problem in, make sure everything runs as expected. First, **restart the kernel** (in the menubar, select Kernel$\\rightarrow$Restart) and then **run all cells** (in the menubar, select Cell$\\rightarrow$Run All).\n",
    "\n",
    "Make sure you fill in any place that says `YOUR CODE HERE` or \"YOUR ANSWER HERE\", specify your name and that of your collaborator, and remove the `notimplemented` exception.\n",
    "\n"
   ]
  },
  {
   "cell_type": "markdown",
   "metadata": {},
   "source": [
    "---"
   ]
  },
  {
   "cell_type": "code",
   "execution_count": 1,
   "metadata": {
    "collapsed": true
   },
   "outputs": [],
   "source": [
    "NAME: \"Ze Yang\"\n",
    "COLLABORATOR: \"\""
   ]
  },
  {
   "cell_type": "markdown",
   "metadata": {},
   "source": [
    "## Probability of Informed Trading (PIN)\n",
    "\n",
    "The stock market is filled with informed and uninformed traders (participants).  You may assume that a highly efficient marketplace results in the probability of trading with an informed participant is low.  But how do we compute this probability?  The PIN statistic developed by Easley, O'Hara et al provides a value (between 0 and 1) of the probability of informed trading.  In this assignment, you are asked to calculate the PIN statistic for a single stock.  The steps will include computing the number of buy and sell ordrs using the Lee and Ready algorithm, implementing the PIN ratio and the log likelihood and finally using the the `scipy optimize` package to fit the PIN parameters and calculate the PIN ratio.\n",
    "\n",
    "Before beginning this assignment, make sure the `scipy` package is installed by running the following from the anaconda prompt\n",
    "```\n",
    "conda install -c anaconda scipy\n",
    "```"
   ]
  },
  {
   "cell_type": "markdown",
   "metadata": {},
   "source": [
    "We start by opening a connection to the NYSE Daily TAQ database. The generated integer saved in `h` is a Kdb+ file handle.  It will be used for all database communication.\n",
    "\n",
    "NOTE: The database is located on a CMU server - behind the firewall.  If you are doing this assignment from home, you will need to connect to the CMU network using the Cisco AnyConnect VPN software."
   ]
  },
  {
   "cell_type": "code",
   "execution_count": 2,
   "metadata": {},
   "outputs": [
    {
     "name": "stdout",
     "output_type": "stream",
     "text": [
      "6i\n"
     ]
    }
   ],
   "source": [
    "\\c 5 100\n",
    "h:0N!hopen `$\":tpr-mscf-kx.tepper.cmu.edu:5000:mscf2018:mmat46982\""
   ]
  },
  {
   "cell_type": "markdown",
   "metadata": {},
   "source": [
    "### Part A (1 points)\n",
    "\n",
    "Complete the `landr` function so that it downloads the total number of buy and sell trades for a given list of symbols on a given date and condition codes\n",
    "\n",
    "The returned table should have 4 columns: `date,sym,B,S` where the `B` column indicates the total number of buy trades and the `S` column indicates the total number of sell trades."
   ]
  },
  {
   "cell_type": "code",
   "execution_count": 3,
   "metadata": {
    "deletable": false,
    "nbgrader": {
     "checksum": "117042a4050a5ace2ecb0215e5cd3f3e",
     "grade": false,
     "grade_id": "landr",
     "locked": false,
     "schema_version": 1,
     "solution": true
    }
   },
   "outputs": [],
   "source": [
    "/ (s)ym, trade (c)ondition codes, (d)a(t)e\n",
    "landr:{[s;c;dt]\n",
    " / YOUR CODE HERE\n",
    " t:select date,sym,time,price from trade where date=dt,sym in s,cond in c;\n",
    " t:aj[`sym`time;t]select sym,time,bid,ask from nbbo where date=dt;\n",
    " t:update mid:\"e\"$.5*ask+bid,tick:fills -1 0N 1@1+signum price-prev price by sym from t;\n",
    " t:update side:?[price>mid;1;?[price<mid;-1;tick]] by sym from t;\n",
    " t:0!select B:sum side>0, S:sum side<0 by date,sym from t;\n",
    " t}"
   ]
  },
  {
   "cell_type": "code",
   "execution_count": 4,
   "metadata": {
    "deletable": false,
    "editable": false,
    "nbgrader": {
     "checksum": "4fd1759ea825b259eafd84791e92bbce",
     "grade": false,
     "grade_id": "cell-fa36bd2ff8611def",
     "locked": true,
     "schema_version": 1,
     "solution": false
    }
   },
   "outputs": [
    {
     "data": {
      "text/plain": [
       "date       sym  B     S    \n",
       "---------------------------\n",
       "2018.09.04 BAC  34432 34422\n",
       "2018.09.04 MSFT 26244 28019\n"
      ]
     },
     "execution_count": 4,
     "metadata": {},
     "output_type": "execute_result"
    }
   ],
   "source": [
    "/ pass function to the database for execution\n",
    "h (landr;`BAC`MSFT;\" \";2018.09.04)"
   ]
  },
  {
   "cell_type": "markdown",
   "metadata": {},
   "source": [
    "Your results should match the following:\n",
    "```\n",
    "date       sym  B     S    \n",
    "---------------------------\n",
    "2018.09.04 BAC  34432 34422\n",
    "2018.09.04 MSFT 26244 28019\n",
    "```"
   ]
  },
  {
   "cell_type": "code",
   "execution_count": 5,
   "metadata": {
    "collapsed": true,
    "deletable": false,
    "editable": false,
    "nbgrader": {
     "checksum": "382b032845e4add1c4e812f5a10dd90d",
     "grade": true,
     "grade_id": "correct_landr",
     "locked": true,
     "points": 1,
     "schema_version": 1,
     "solution": false
    }
   },
   "outputs": [],
   "source": [
    "rnd:{x*\"j\"$y%x}\n",
    "assert:{if[not x~y;'`$\"expecting '\",(-3!x),\"' but found '\",(-3!y),\"'\"]}\n",
    "/ confirm all columns are included\n",
    "assert[`date`sym`B`S] cols h (landr;`BAC;\" \";2018.09.04)\n",
    "/ confirm schema is correct\n",
    "assert[\"dsii\"] first flip value meta h (landr;`BAC;\" \";2018.09.04)\n",
    "/ confirm query only selects specified dates\n",
    "assert[2018.09.04+0 1]  exec distinct date from raze {h (landr;`BAC;\" \";x)} each 2018.09.04 + 0 1\n",
    "/ confirm only requested syms have been returned\n",
    "assert[`BAC`TSLA] exec distinct sym from h (landr;`BAC`TSLA;\" \";2018.09.04)\n",
    "/ confirm correct number of rows have been returned\n",
    "assert[2] count h (landr;`BAC`TSLA;\" \";2018.09.04)\n",
    "/ confirm only selected condition codes have been returned\n",
    "assert[1i] first (h (landr;`BAC;\"O\";2018.09.04))`B\n",
    "assert[34432i] first (h (landr;`BAC;\" \";2018.09.04))`B"
   ]
  },
  {
   "cell_type": "markdown",
   "metadata": {},
   "source": [
    "### Part B (1 points)\n",
    "\n",
    "In class, we implemented a version of the PIN ratio which differentiated between the rate of buy and sell uninformed participants. Implement a simplified PIN calculation, which does not differentiate between the two.\n",
    "\n",
    "$$\\text{PIN} =\\frac{\\alpha\\mu}{2\\epsilon+\\alpha\\mu}$$\n",
    "\n",
    "\n",
    "Complete the `pin` function so that it computes the PIN ratio given the simplified parameters \"emad\" $\\epsilon$, $\\mu$, $\\alpha$, $\\delta$\n"
   ]
  },
  {
   "cell_type": "code",
   "execution_count": 6,
   "metadata": {
    "deletable": false,
    "nbgrader": {
     "checksum": "8b6fcc7cfa03010c31cffc83eec7caa2",
     "grade": false,
     "grade_id": "pin",
     "locked": false,
     "schema_version": 1,
     "solution": true
    }
   },
   "outputs": [],
   "source": [
    "/ (e)psilon, (m)u, (a)lpha, (d)elta\n",
    "pin:{[emad]\n",
    " / YOUR CODE HERE\n",
    " p:(emad[2]*emad[1])%((2f*emad[0])+emad[2]*emad[1]);\n",
    " p}"
   ]
  },
  {
   "cell_type": "code",
   "execution_count": 7,
   "metadata": {
    "deletable": false,
    "editable": false,
    "nbgrader": {
     "checksum": "25a9f0abd6bfe0c94d0b521e77c7472b",
     "grade": false,
     "grade_id": "cell-80b35eb1e4960a9e",
     "locked": true,
     "schema_version": 1,
     "solution": false
    }
   },
   "outputs": [
    {
     "data": {
      "text/plain": [
       "0.002493766\n"
      ]
     },
     "execution_count": 7,
     "metadata": {},
     "output_type": "execute_result"
    }
   ],
   "source": [
    "/ test pin function\n",
    "pin 10000 100 .5 .5"
   ]
  },
  {
   "cell_type": "markdown",
   "metadata": {},
   "source": [
    "Your results should match the following:\n",
    "```\n",
    "0.002493766\n",
    "```"
   ]
  },
  {
   "cell_type": "code",
   "execution_count": 8,
   "metadata": {
    "collapsed": true,
    "deletable": false,
    "editable": false,
    "nbgrader": {
     "checksum": "872d2890b809aee2e9d092f6429a4507",
     "grade": true,
     "grade_id": "correct_pin",
     "locked": true,
     "points": 1,
     "schema_version": 1,
     "solution": false
    }
   },
   "outputs": [],
   "source": [
    "/ confirm PIN limits\n",
    "assert[1f] pin 0 1 .5 .5\n",
    "assert[0f] pin 1 0 .5 .5\n",
    "assert[0f] pin 1 1 0 .5\n",
    "assert[.5] pin 2 2 2 .5"
   ]
  },
  {
   "cell_type": "markdown",
   "metadata": {},
   "source": [
    "### Part C (1 points)\n",
    "\n",
    "This assignment requires us to implement the PIN log likelihood in python.  Let's get some practice by implementing the PIN function in python.\n",
    "\n",
    "Complete the python `pin` function so that it computes the PIN ratio given the simplified parameters \"emad\" $\\epsilon$, $\\mu$, $\\alpha$, $\\delta$\n"
   ]
  },
  {
   "cell_type": "code",
   "execution_count": 9,
   "metadata": {
    "deletable": false,
    "nbgrader": {
     "checksum": "3b728983652bcc21253d360b87595bee",
     "grade": false,
     "grade_id": "ppin",
     "locked": false,
     "schema_version": 1,
     "solution": true
    }
   },
   "outputs": [
    {
     "name": "stdout",
     "output_type": "stream",
     "text": [
      "\"p)# (e)psilon, (m)u, (a)lpha, (d)elta\"\n",
      "\"p)def pin(emad):\\n return emad[2]*emad[1]/(2*emad[0]+emad[2]*emad[1])\"\n"
     ]
    }
   ],
   "source": [
    "/%python\n",
    "# (e)psilon, (m)u, (a)lpha, (d)elta\n",
    "def pin(emad):\n",
    " return emad[2]*emad[1]/(2*emad[0]+emad[2]*emad[1])"
   ]
  },
  {
   "cell_type": "code",
   "execution_count": 10,
   "metadata": {
    "deletable": false,
    "editable": false,
    "nbgrader": {
     "checksum": "5f8ce33b2481ecca455f9ccf1211087f",
     "grade": false,
     "grade_id": "cell-c238335aeaaf64b7",
     "locked": true,
     "schema_version": 1,
     "solution": false
    }
   },
   "outputs": [
    {
     "name": "stdout",
     "output_type": "stream",
     "text": [
      "\"p)# test pin function\"\n",
      "\"p)print(pin([10000,100,.5,.5]))\"\n",
      "0.0024937655860349127\n"
     ]
    }
   ],
   "source": [
    "/%python\n",
    "# test pin function\n",
    "print(pin([10000,100,.5,.5]))"
   ]
  },
  {
   "cell_type": "markdown",
   "metadata": {},
   "source": [
    "Your results should match the following:\n",
    "```\n",
    "0.0024937655860349127\n",
    "```"
   ]
  },
  {
   "cell_type": "code",
   "execution_count": 11,
   "metadata": {
    "deletable": false,
    "editable": false,
    "nbgrader": {
     "checksum": "5b3118d9d5fab0311ee3f62930e258aa",
     "grade": true,
     "grade_id": "correct_ppin",
     "locked": true,
     "points": 1,
     "schema_version": 1,
     "solution": false
    }
   },
   "outputs": [
    {
     "name": "stdout",
     "output_type": "stream",
     "text": [
      "\"p)# confirm PIN limits\"\n",
      "\"p)print(\\\"test 1\\\")\"\n",
      "\"p)assert 1==pin([0,1,.5,.5])\"\n",
      "\"p)print(\\\"test 2\\\")\"\n",
      "\"p)assert 0==pin([1,0,.5,.5])\"\n",
      "\"p)print(\\\"test 3\\\")\"\n",
      "\"p)assert 0==pin([1,1,0,.5])\"\n",
      "\"p)print(\\\"test 4\\\")\"\n",
      "\"p)assert .5==pin([2,2,2,.5])\"\n",
      "test 1\n",
      "test 2\n",
      "test 3\n",
      "test 4\n"
     ]
    }
   ],
   "source": [
    "/%python\n",
    "# confirm PIN limits\n",
    "print(\"test 1\")\n",
    "assert 1==pin([0,1,.5,.5])\n",
    "print(\"test 2\")\n",
    "assert 0==pin([1,0,.5,.5])\n",
    "print(\"test 3\")\n",
    "assert 0==pin([1,1,0,.5])\n",
    "print(\"test 4\")\n",
    "assert .5==pin([2,2,2,.5])"
   ]
  },
  {
   "cell_type": "markdown",
   "metadata": {},
   "source": [
    "### Part D (1 points)\n",
    "\n",
    "In class, we implemented a version of the PIN ratio which differentiated between the rate of buy and sell uninformed participants. Implement a simplified PIN calculation which does not differentiate between the two.\n",
    "\n",
    "$$\\log \\mathcal{L} = \\sum_{d=1}^n -2\\epsilon + M_d \\log x + (B_d+S_d)\\log(\\mu + \\epsilon) $$\n",
    "$$ + \\sum_{d=1}^n \\log \\left( (1-\\alpha)x^{S_d+B_d-M_d} + \\alpha(1-\\delta)\\exp(-\\mu)x^{S_d-M_d} + \\alpha\\delta\\exp(-\\mu)x^{B_d-M_d}\\right)$$\n",
    "\n",
    "where:\n",
    "\n",
    "$$M_d = \\min(B_d,S_d) + \\frac{\\max(B_d,S_d)}{2}$$\n",
    "$$x = \\frac{\\epsilon}{\\epsilon + \\mu} $$\n",
    "\n",
    "Complete the `pin_ll` function so that it computes the log likelihood given the simplified parameters \"emad\" $\\epsilon$, $\\mu$, $\\alpha$, $\\delta$ and `B`,`S`\n",
    "\n",
    "For numeric stability, your function should enforce the following limits:\n",
    "\n",
    "1. $\\epsilon$ and $\\mu$ are rates, so prevent the values from being negative.  Floor the passed in values to 0.\n",
    "2. $\\alpha$ and $\\delta$ are probabilities, so limit the values to be between 0 and 1. Floor the passed in values to 0 and cap them to 1.\n",
    "3. Prevent the function from taking the log of 0 by limiting the values passed to the $\\log$ operator in the second summation to 1e-300.  Floor the values passed to $\\log$ to 1e-300.\n",
    "\n"
   ]
  },
  {
   "cell_type": "code",
   "execution_count": 12,
   "metadata": {
    "deletable": false,
    "nbgrader": {
     "checksum": "3b0b19d436927b97ec1e6c0e1513fea9",
     "grade": false,
     "grade_id": "pinll",
     "locked": false,
     "schema_version": 1,
     "solution": true
    }
   },
   "outputs": [],
   "source": [
    "/ (e)psilon, (m)u, (a)lpha, (d)elta, (B)uy count, (S)ell count\n",
    "pin_ll:{[emad;B;S]\n",
    " / YOUR CODE HERE\n",
    " e:emad[0];m:emad[1];a:emad[2];d:emad[3];\n",
    " e:0|e;m:0|m;a:1&0|a;d:1&0|d;\n",
    " M:(B&S)+.5*B|S;\n",
    " x:e%(m+e);\n",
    " ll:sum neg[e+e]+((B+S)*log(e+m))+M*log[x];\n",
    " ll+:sum log 1e-300|((1-a)*(x xexp S+B-M))+((a*1-d)*(exp[neg m]*x xexp S-M))+(a*d*exp[neg m]*x xexp B-M);\n",
    " ll}"
   ]
  },
  {
   "cell_type": "code",
   "execution_count": 13,
   "metadata": {
    "collapsed": true,
    "deletable": false,
    "editable": false,
    "nbgrader": {
     "checksum": "436e533eda1a216884c926be301b2112",
     "grade": false,
     "grade_id": "cell-408a743be619b35c",
     "locked": true,
     "schema_version": 1,
     "solution": false
    }
   },
   "outputs": [],
   "source": [
    "t:raze {h (landr;`LOB;\" \";x)} each 2018.09.01 + til 30\n",
    ".p.set[`B] get `B set t`B\n",
    ".p.set[`S] get `S set t`S"
   ]
  },
  {
   "cell_type": "code",
   "execution_count": 14,
   "metadata": {
    "deletable": false,
    "editable": false,
    "nbgrader": {
     "checksum": "07acb58be0667fca81d6a340cc1390f2",
     "grade": false,
     "grade_id": "cell-ac8ad7c750cc735b",
     "locked": true,
     "schema_version": 1,
     "solution": false
    }
   },
   "outputs": [
    {
     "data": {
      "text/plain": [
       "-318672.3\n"
      ]
     },
     "execution_count": 14,
     "metadata": {},
     "output_type": "execute_result"
    }
   ],
   "source": [
    "/ test pin function\n",
    "pin_ll[10000 1000 .5 .5;B;S]"
   ]
  },
  {
   "cell_type": "markdown",
   "metadata": {},
   "source": [
    "Your results should match the following:\n",
    "```\n",
    "-318672.3\n",
    "```"
   ]
  },
  {
   "cell_type": "code",
   "execution_count": 15,
   "metadata": {
    "collapsed": true,
    "deletable": false,
    "editable": false,
    "nbgrader": {
     "checksum": "c8497938cbecc185549994cd7b3a09c1",
     "grade": true,
     "grade_id": "correct_pinll",
     "locked": true,
     "points": 2,
     "schema_version": 1,
     "solution": false
    }
   },
   "outputs": [],
   "source": [
    "/ confirm pin_ll calculation\n",
    "assert[-3723337] rnd[1] pin_ll[100000 100000 .5 2;B;S]\n",
    "assert[-3735122] rnd[1] pin_ll[100000 100000 2 .5;B;S]\n",
    "assert[-3723337] rnd[1] pin_ll[100000 100000 .5 .5;B;S]\n",
    "assert[-318672] rnd[1] pin_ll[10000 10000 .5 .5;B;S]\n",
    "assert[7992] rnd[1] pin_ll[1000 1000 .5 .1;B;S]\n"
   ]
  },
  {
   "cell_type": "markdown",
   "metadata": {},
   "source": [
    "### Part E (1 points)\n",
    "\n",
    "We will need to optimize this function, so convert the `pin_ll` to python.\n",
    "\n",
    "Complete the python `pin_ll` function so that it computes the log likelihood given the simplified parameters \"emad\" $\\epsilon$, $\\mu$, $\\alpha$, $\\delta$ and `B`,`S`\n",
    "\n"
   ]
  },
  {
   "cell_type": "code",
   "execution_count": 16,
   "metadata": {
    "deletable": false,
    "nbgrader": {
     "checksum": "5609da4a72c2c9b41293d3748d700910",
     "grade": false,
     "grade_id": "ppinll",
     "locked": false,
     "schema_version": 1,
     "solution": true
    }
   },
   "outputs": [
    {
     "name": "stdout",
     "output_type": "stream",
     "text": [
      "\"p)import numpy as np\"\n",
      "\"p)def pin_ll(emad,B,S):\\n # YOUR CODE HERE\\n e, m, a, d = emad;\\n e, m, a, d = max(0, e), max(0,..\n"
     ]
    }
   ],
   "source": [
    "/%python\n",
    "import numpy as np\n",
    "def pin_ll(emad,B,S):\n",
    " # YOUR CODE HERE\n",
    " e, m, a, d = emad;\n",
    " e, m, a, d = max(0, e), max(0, m), np.clip(a, 0, 1), np.clip(d, 0, 1)\n",
    " M = np.fmin(B, S) + np.fmax(B, S)/2\n",
    " x = e/(m+e)\n",
    " ll = -2*e*len(M) + M.sum()*np.log(x) + np.log(m+e)*(B+S).sum()\n",
    " ll += np.log(np.fmax(1e-300, (1-a)*x**(S+B-M) + \n",
    "  a*(1-d)*np.exp(-m)*x**(S-M) + a*d*np.exp(-m)*x**(B-M) )).sum()\n",
    " return ll"
   ]
  },
  {
   "cell_type": "code",
   "execution_count": 17,
   "metadata": {
    "deletable": false,
    "editable": false,
    "nbgrader": {
     "checksum": "bd7e9b04efb1e8d0ecda542f02f4af05",
     "grade": false,
     "grade_id": "cell-3d0e1b06853c0615",
     "locked": true,
     "schema_version": 1,
     "solution": false
    }
   },
   "outputs": [
    {
     "name": "stdout",
     "output_type": "stream",
     "text": [
      "\"p)import math\"\n",
      "\"p)import numpy as np\"\n",
      "\"p)import pandas as pd\"\n",
      "\"p)import matplotlib.pyplot as plt\"\n",
      "\"p)from scipy.optimize import minimize\"\n",
      "\"p)# test function\"\n",
      "\"p)print(pin_ll([10000,100,.5,.5],B,S))\"\n",
      "-318672.302919\n"
     ]
    }
   ],
   "source": [
    "/%python\n",
    "import math\n",
    "import numpy as np\n",
    "import pandas as pd\n",
    "import matplotlib.pyplot as plt\n",
    "from scipy.optimize import minimize\n",
    "# test function\n",
    "print(pin_ll([10000,100,.5,.5],B,S))"
   ]
  },
  {
   "cell_type": "markdown",
   "metadata": {},
   "source": [
    "Your results should match the following:\n",
    "```\n",
    "-318672.3029190693\n",
    "```"
   ]
  },
  {
   "cell_type": "code",
   "execution_count": 18,
   "metadata": {
    "deletable": false,
    "editable": false,
    "nbgrader": {
     "checksum": "dee8b377b17a19817a2446b64de0e9d7",
     "grade": true,
     "grade_id": "correct_ppinll",
     "locked": true,
     "points": 2,
     "schema_version": 1,
     "solution": false
    }
   },
   "outputs": [
    {
     "name": "stdout",
     "output_type": "stream",
     "text": [
      "\"p)# confirm pin_ll calculation\"\n",
      "\"p)print(\\\"test 1\\\")\"\n",
      "\"p)assert -3723337 == round(pin_ll([100000,100000,.5,.5],B,S),0)\"\n",
      "\"p)print(\\\"test 2\\\")\"\n",
      "\"p)assert -3723337 == round(pin_ll([100000,100000,.5,2],B,S),0)\"\n",
      "\"p)print(\\\"test 3\\\")\"\n",
      "\"p)assert -3735122 == round(pin_ll([100000,100000,2,.5],B,S),0)\"\n",
      "\"p)print(\\\"test 4\\\")\"\n",
      "\"p)assert -318672 == round(pin_ll([10000,10000,.5,.5],B,S),0)\"\n",
      "\"p)print(\\\"test 5\\\")\"\n",
      "\"p)assert 7992 == round(pin_ll([1000,1000,.5,.1],B,S),0)\"\n",
      "test 1\n",
      "test 2\n",
      "test 3\n",
      "test 4\n",
      "test 5\n"
     ]
    }
   ],
   "source": [
    "/%python\n",
    "# confirm pin_ll calculation\n",
    "print(\"test 1\")\n",
    "assert -3723337 == round(pin_ll([100000,100000,.5,.5],B,S),0)\n",
    "print(\"test 2\")\n",
    "assert -3723337 == round(pin_ll([100000,100000,.5,2],B,S),0)\n",
    "print(\"test 3\")\n",
    "assert -3735122 == round(pin_ll([100000,100000,2,.5],B,S),0)\n",
    "print(\"test 4\")\n",
    "assert -318672 == round(pin_ll([10000,10000,.5,.5],B,S),0)\n",
    "print(\"test 5\")\n",
    "assert 7992 == round(pin_ll([1000,1000,.5,.1],B,S),0)\n"
   ]
  },
  {
   "cell_type": "markdown",
   "metadata": {},
   "source": [
    "### Part F (1 points)\n",
    "\n",
    "To find the values of $\\epsilon$, $\\mu$, $\\alpha$, and $\\delta$ that maximize the log likelihood we can use the `minimize` function in the python `scipy optimize` package.  Since this is a minimization algorithm, we must first implement our `objective` function that gets smaller as the log likelihood gets bigger.\n",
    "\n",
    "Complete the python `objective` function so that it returns the negative of the log likelihood.\n",
    "\n"
   ]
  },
  {
   "cell_type": "code",
   "execution_count": 19,
   "metadata": {
    "deletable": false,
    "nbgrader": {
     "checksum": "7430ce7fd04d1fd79ba92d28816746b5",
     "grade": false,
     "grade_id": "objective",
     "locked": false,
     "schema_version": 1,
     "solution": true
    }
   },
   "outputs": [
    {
     "name": "stdout",
     "output_type": "stream",
     "text": [
      "\"p)def objective(emad,B,S):\\n # YOUR CODE HERE\\n return -pin_ll(emad,B,S)\"\n"
     ]
    }
   ],
   "source": [
    "/%python\n",
    "def objective(emad,B,S):\n",
    " # YOUR CODE HERE\n",
    " return -pin_ll(emad,B,S)"
   ]
  },
  {
   "cell_type": "code",
   "execution_count": 20,
   "metadata": {
    "deletable": false,
    "editable": false,
    "nbgrader": {
     "checksum": "20ed3431a4f04ddde0d1f322ef6c9a3d",
     "grade": false,
     "grade_id": "cell-52d03c92e3ac7e13",
     "locked": true,
     "schema_version": 1,
     "solution": false
    }
   },
   "outputs": [
    {
     "name": "stdout",
     "output_type": "stream",
     "text": [
      "\"p)# test function\"\n",
      "\"p)print(objective([10000,100,.5,.5],B,S))\"\n",
      "318672.302919\n"
     ]
    }
   ],
   "source": [
    "/%python\n",
    "# test function\n",
    "print(objective([10000,100,.5,.5],B,S))"
   ]
  },
  {
   "cell_type": "markdown",
   "metadata": {},
   "source": [
    "Your results should match the following:\n",
    "```\n",
    "318672.3029190693\n",
    "```"
   ]
  },
  {
   "cell_type": "code",
   "execution_count": 21,
   "metadata": {
    "deletable": false,
    "editable": false,
    "nbgrader": {
     "checksum": "deff3bd666bb4e87619019e9342531e3",
     "grade": true,
     "grade_id": "correct_objective",
     "locked": true,
     "points": 1,
     "schema_version": 1,
     "solution": false
    }
   },
   "outputs": [
    {
     "name": "stdout",
     "output_type": "stream",
     "text": [
      "\"p)# confirm pin_ll calculation\"\n",
      "\"p)print(\\\"test 1\\\")\"\n",
      "\"p)assert 318672 == round(objective([10000,100,.5,.5],B,S),0)\"\n",
      "\"p)print(\\\"test 2\\\")\"\n",
      "\"p)assert 3723337 == round(objective([100000,100000,.5,2],B,S),0)\"\n",
      "test 1\n",
      "test 2\n"
     ]
    }
   ],
   "source": [
    "/%python\n",
    "# confirm pin_ll calculation\n",
    "print(\"test 1\")\n",
    "assert 318672 == round(objective([10000,100,.5,.5],B,S),0)\n",
    "print(\"test 2\")\n",
    "assert 3723337 == round(objective([100000,100000,.5,2],B,S),0)"
   ]
  },
  {
   "cell_type": "markdown",
   "metadata": {},
   "source": [
    "### Part G (1 points)\n",
    "\n",
    "Even though we enforced that the values of $\\epsilon$, and $\\mu$ never go negative and we bounded $\\alpha$ and $\\delta$ to be between 0 and 1, we should also create a set of bounds for the `minimize` function so that it does not try to generate an illogical solution.\n",
    "\n",
    "Create a variable called `bounds` which has list of bounds - one for each of parameters expected by the `objective` function.  The order of the bounds must match the order of the coefficients. You may refer to the `minimize` [documentation](https://docs.scipy.org/doc/scipy/reference/generated/scipy.optimize.minimize.html) for specifics on the expected bounds structure."
   ]
  },
  {
   "cell_type": "code",
   "execution_count": 22,
   "metadata": {
    "deletable": false,
    "nbgrader": {
     "checksum": "d490c5bf0df2d3cb985a3f58134f61ae",
     "grade": false,
     "grade_id": "bounds",
     "locked": false,
     "schema_version": 1,
     "solution": true
    }
   },
   "outputs": [
    {
     "name": "stdout",
     "output_type": "stream",
     "text": [
      "\"p)bounds = [(0,None),(0,None),(0,1),(0,1)]\"\n",
      "\"p)# YOUR CODE HERE\"\n",
      "\"p)\"\n"
     ]
    }
   ],
   "source": [
    "/%python\n",
    "bounds = [(0,None),(0,None),(0,1),(0,1)]\n",
    "# YOUR CODE HERE\n",
    "\n"
   ]
  },
  {
   "cell_type": "code",
   "execution_count": 23,
   "metadata": {
    "deletable": false,
    "editable": false,
    "nbgrader": {
     "checksum": "5d0d2e1d6963ffe1de400ca0955b21ad",
     "grade": false,
     "grade_id": "cell-3519f353b884d357",
     "locked": true,
     "schema_version": 1,
     "solution": false
    }
   },
   "outputs": [
    {
     "name": "stdout",
     "output_type": "stream",
     "text": [
      "\"p)# display bounds\"\n",
      "\"p)print(bounds)\"\n",
      "[(0, None), (0, None), (0, 1), (0, 1)]\n"
     ]
    }
   ],
   "source": [
    "/%python\n",
    "# display bounds\n",
    "print(bounds)"
   ]
  },
  {
   "cell_type": "code",
   "execution_count": 24,
   "metadata": {
    "deletable": false,
    "editable": false,
    "nbgrader": {
     "checksum": "5a23e443addfe0f357a2cf7d707a9d2a",
     "grade": true,
     "grade_id": "correct_bounds",
     "locked": true,
     "points": 1,
     "schema_version": 1,
     "solution": false
    }
   },
   "outputs": [
    {
     "name": "stdout",
     "output_type": "stream",
     "text": [
      "\"p)# confirm pin_ll calculation\"\n",
      "\"p)assert 0 == bounds[0][0]\"\n",
      "\"p)assert None == bounds[0][1]\"\n",
      "\"p)assert 0 == bounds[1][0]\"\n",
      "\"p)assert None == bounds[1][1]\"\n",
      "\"p)assert 0 == bounds[2][0]\"\n",
      "\"p)assert 1 == bounds[2][1]\"\n",
      "\"p)assert 0 == bounds[3][0]\"\n",
      "\"p)assert 1 == bounds[3][1]\"\n",
      "\"p)\"\n"
     ]
    }
   ],
   "source": [
    "/%python\n",
    "# confirm pin_ll calculation\n",
    "assert 0 == bounds[0][0]\n",
    "assert None == bounds[0][1]\n",
    "assert 0 == bounds[1][0]\n",
    "assert None == bounds[1][1]\n",
    "assert 0 == bounds[2][0]\n",
    "assert 1 == bounds[2][1]\n",
    "assert 0 == bounds[3][0]\n",
    "assert 1 == bounds[3][1]\n",
    "\n"
   ]
  },
  {
   "cell_type": "markdown",
   "metadata": {},
   "source": [
    "### Part H (1 points)\n",
    "\n",
    "The last step is to perform the minimization on the objective function.\n",
    "\n",
    "Create a variable called `sol` which stores the result of the `minimize` function.  You should specify the following arguments:\n",
    "\n",
    "1. The objective function\n",
    "2. The vector of initial guesses\n",
    "3. The `args` option which holds extra arguments that need to passed to the objective function (the buy and sell vector)\n",
    "4. A `method` option which specifies minimization method that handles non-linear functions\n",
    "5. The `bounds` options which holds the bounds vector\n",
    "\n",
    "If you desire to see the intermediate parameter vectors, you may implement a function to be passed to the `callback` option which prints the passed in argument.\n",
    "\n",
    "NOTE: It is important to supply a reasonable guess of the initial parameters.  You may need to try multiple times - and think what the values actually mean to get `minimize` to find a valid solution."
   ]
  },
  {
   "cell_type": "code",
   "execution_count": 25,
   "metadata": {
    "deletable": false,
    "nbgrader": {
     "checksum": "b3bc260a199617b4b9e22817932dfb4a",
     "grade": false,
     "grade_id": "optimize",
     "locked": false,
     "schema_version": 1,
     "solution": true
    }
   },
   "outputs": [
    {
     "name": "stdout",
     "output_type": "stream",
     "text": [
      "\"p)sol = None\"\n",
      "\"p)# YOUR CODE HERE\"\n",
      "\"p)from scipy.optimize import minimize\"\n",
      "\"p)sol = minimize(objective, x0=np.array([100, 100, .5, .5]), args=(B,S), bounds=bounds)\"\n"
     ]
    }
   ],
   "source": [
    "/%python\n",
    "sol = None\n",
    "# YOUR CODE HERE\n",
    "from scipy.optimize import minimize\n",
    "sol = minimize(objective, x0=np.array([100, 100, .5, .5]), args=(B,S), bounds=bounds)\n"
   ]
  },
  {
   "cell_type": "code",
   "execution_count": 26,
   "metadata": {
    "deletable": false,
    "editable": false,
    "nbgrader": {
     "checksum": "0fcb7f97b1ce53783b349a072a28000e",
     "grade": false,
     "grade_id": "cell-ef15849101326442",
     "locked": true,
     "schema_version": 1,
     "solution": false
    }
   },
   "outputs": [
    {
     "name": "stdout",
     "output_type": "stream",
     "text": [
      "\"p)# test function\"\n",
      "\"p)print(sol)\"\n",
      "      fun: -27985.395704062761\n",
      " hess_inv: <4x4 LbfgsInvHessProduct with dtype=float64>\n",
      "      jac: array([ 0.0007276 ,  0.0003638 , -0.00545697,  0.00327418])\n",
      "  message: b'CONVERGENCE: REL_REDUCTION_OF_F_<=_FACTR*EPSMCH'\n",
      "     nfev: 130\n",
      "      nit: 20\n",
      "   status: 0\n",
      "  success: True\n",
      "        x: array([ 146.74390907,  119.87847046,    0.475773  ,    0.53445595])\n"
     ]
    }
   ],
   "source": [
    "/%python\n",
    "# test function\n",
    "print(sol)"
   ]
  },
  {
   "cell_type": "markdown",
   "metadata": {},
   "source": [
    "Your results should be similar to the following (specifically, `Success: True`):\n",
    "```\n",
    "     fun: -27985.395704447892\n",
    "     jac: array([ 0.00024414, -0.00048828,  0.00244141, -0.00097656])\n",
    " message: 'Optimization terminated successfully.'\n",
    "    nfev: 124\n",
    "     nit: 19\n",
    "    njev: 19\n",
    "  status: 0\n",
    " success: True\n",
    "       x: array([146.74509945, 119.87358384,   0.4758344 ,   0.53436732])\n",
    "```"
   ]
  },
  {
   "cell_type": "code",
   "execution_count": 27,
   "metadata": {
    "deletable": false,
    "editable": false,
    "nbgrader": {
     "checksum": "0d74c9b910b7aca26d10ce508921303c",
     "grade": true,
     "grade_id": "correct_optimize",
     "locked": true,
     "points": 1,
     "schema_version": 1,
     "solution": false
    }
   },
   "outputs": [
    {
     "name": "stdout",
     "output_type": "stream",
     "text": [
      "\"p)# confirm successful optimization\"\n",
      "\"p)print(\\\"test 1\\\")\"\n",
      "\"p)assert sol.success\"\n",
      "test 1\n"
     ]
    }
   ],
   "source": [
    "/%python\n",
    "# confirm successful optimization\n",
    "print(\"test 1\")\n",
    "assert sol.success"
   ]
  },
  {
   "cell_type": "markdown",
   "metadata": {},
   "source": [
    "### Part I (0 points)\n",
    "\n",
    "We can now determine the probability of informed trading (PIN)."
   ]
  },
  {
   "cell_type": "code",
   "execution_count": 28,
   "metadata": {
    "deletable": false,
    "editable": false,
    "nbgrader": {
     "checksum": "ea0f5884012c52a980b85385c5ed6b49",
     "grade": false,
     "grade_id": "cell-17c583eda2474b61",
     "locked": true,
     "schema_version": 1,
     "solution": false
    }
   },
   "outputs": [
    {
     "name": "stdout",
     "output_type": "stream",
     "text": [
      "\"p)print(pin(sol.x))\"\n",
      "0.16271394156\n"
     ]
    }
   ],
   "source": [
    "/%python\n",
    "print(pin(sol.x))"
   ]
  },
  {
   "cell_type": "markdown",
   "metadata": {},
   "source": [
    "## However...\n",
    "The results above seems to be a local optimum which is very sensitive to starting point x0."
   ]
  },
  {
   "cell_type": "code",
   "execution_count": 29,
   "metadata": {},
   "outputs": [
    {
     "name": "stdout",
     "output_type": "stream",
     "text": [
      "\"p)sol2 = minimize(objective, x0=np.array([10, 10, 0.1, 0.1]), args=(B,S), bounds=bounds)\"\n",
      "\"p)print(sol2)\"\n",
      "\"p)print(pin(sol2.x))\"\n",
      "\"p)\"\n",
      "\"p)sol3 = minimize(objective, x0=np.array([10000, 100, 0.1, 0.1]), args=(B,S), bounds=bounds)\"\n",
      "\"p)print(sol3)\"\n",
      "\"p)print(pin(sol3.x))\"\n",
      "      fun: -27747.482101081034\n",
      " hess_inv: <4x4 LbfgsInvHessProduct with dtype=float64>\n",
      "      jac: array([ 0.        ,  0.51295501,  0.        ,  0.        ])\n",
      "  message: b'CONVERGENCE: NORM_OF_PROJECTED_GRADIENT_<=_PGTOL'\n",
      "     nfev: 70\n",
      "      nit: 12\n",
      "   status: 0\n",
      "  success: True\n",
      "        x: array([ 175.26476666,    0.        ,    1.        ,    1.        ])\n",
      "0.0\n"
     ]
    },
    {
     "name": "stderr",
     "output_type": "stream",
     "text": [
      "__main__:7: RuntimeWarning: divide by zero encountered in log\n",
      "__main__:9: RuntimeWarning: divide by zero encountered in power\n",
      "__main__:9: RuntimeWarning: invalid value encountered in multiply\n",
      "__main__:9: RuntimeWarning: invalid value encountered in fmax\n",
      "__main__:9: RuntimeWarning: overflow encountered in power\n",
      "/Users/zed/anaconda/lib/python3.6/site-packages/scipy/optimize/optimize.py:663: RuntimeWarning: invalid value encountered in double_scalars\n",
      "  grad[k] = (f(*((xk + d,) + args)) - f0) / d[k]\n",
      "__main__:9: RuntimeWarning: invalid value encountered in double_scalars\n"
     ]
    },
    {
     "name": "stdout",
     "output_type": "stream",
     "text": [
      "      fun: 317265.12010120775\n",
      " hess_inv: <4x4 LbfgsInvHessProduct with dtype=float64>\n",
      "      jac: array([ 37.33439371,   0.        ,  19.00480129,   0.        ])\n",
      "  message: b'CONVERGENCE: REL_REDUCTION_OF_F_<=_FACTR*EPSMCH'\n",
      "     nfev: 35\n",
      "      nit: 2\n",
      "   status: 0\n",
      "  success: True\n",
      "        x: array([  9.96265979e+03,   1.00000000e+02,   0.00000000e+00,\n",
      "         1.00000000e-01])\n",
      "0.0\n"
     ]
    }
   ],
   "source": [
    "/%python\n",
    "sol2 = minimize(objective, x0=np.array([10, 10, 0.1, 0.1]), args=(B,S), bounds=bounds)\n",
    "print(sol2)\n",
    "print(pin(sol2.x))\n",
    "\n",
    "sol3 = minimize(objective, x0=np.array([10000, 100, 0.1, 0.1]), args=(B,S), bounds=bounds)\n",
    "print(sol3)\n",
    "print(pin(sol3.x))"
   ]
  }
 ],
 "metadata": {
  "kernelspec": {
   "display_name": "Q (kdb+)",
   "language": "q",
   "name": "qpk"
  },
  "language_info": {
   "file_extension": ".q",
   "mimetype": "text/x-q",
   "name": "q",
   "version": "3.6.0"
  }
 },
 "nbformat": 4,
 "nbformat_minor": 2
}
